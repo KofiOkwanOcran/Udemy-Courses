{
 "cells": [
  {
   "cell_type": "markdown",
   "metadata": {
    "colab_type": "text",
    "id": "_C-yyEOKo9xZ"
   },
   "source": [
    "# Exploratory Data Analysis on Udemy Courses\n",
    "\n",
    "### About this Data \n",
    "\n",
    "The Udemy Courses dataset contains **3,682 records** of courses from **4 subjects (Business Finance, Graphic Design, Musical Instruments and Web Design)** taken from Udemy from  2011 to 2017\n",
    "\n",
    "Udemy is a massive online open course (MOOC) platform that offers both free and paid courses. Anybody can create a course, a business model by which allowed Udemy to have hundreds of thousands of courses. \n",
    "\n",
    "This data has the following column names(explanation attached).  \n",
    "* `course_id` - Course ID \n",
    "* `course_title` - Course Title \n",
    "* `url` - Course URL \n",
    "* `is_paid` - Whether the course is free or paid \n",
    "* `price` - Course Price \n",
    "* `num_subscribers` - Number of subscribers \n",
    "* `num_reviews` - Number of reviews \n",
    "* `num_lectures` - Number of lectures \n",
    "* `level` - Course difficulty \n",
    "* `content_duration` - Duration of all course materials \n",
    "* `published_timestamp` - Date that the course was published. \n",
    "* `Subject` - Course subject "
   ]
  },
  {
   "cell_type": "markdown",
   "metadata": {},
   "source": [
    "#### Importing the necessary packages"
   ]
  },
  {
   "cell_type": "code",
   "execution_count": 60,
   "metadata": {
    "colab": {},
    "colab_type": "code",
    "id": "0h-CH9Bco9xc"
   },
   "outputs": [],
   "source": [
    "import pandas as pd\n",
    "import numpy as np\n",
    "import seaborn as sns\n",
    "import matplotlib.pyplot as plt"
   ]
  },
  {
   "cell_type": "markdown",
   "metadata": {},
   "source": [
    "#### Load dataset into dataframe"
   ]
  },
  {
   "cell_type": "code",
   "execution_count": 61,
   "metadata": {
    "colab": {},
    "colab_type": "code",
    "id": "bfPZo-bgo9xh"
   },
   "outputs": [],
   "source": [
    "df = pd.read_csv('./udemy_courses.csv')"
   ]
  },
  {
   "cell_type": "markdown",
   "metadata": {},
   "source": [
    "#### Quick view of the data"
   ]
  },
  {
   "cell_type": "code",
   "execution_count": 62,
   "metadata": {
    "colab": {
     "base_uri": "https://localhost:8080/",
     "height": 204
    },
    "colab_type": "code",
    "id": "1fEbdjmBo9xm",
    "outputId": "010b599a-bef8-48dd-a8f5-db53a695f90e"
   },
   "outputs": [
    {
     "data": {
      "text/html": [
       "<div>\n",
       "<style scoped>\n",
       "    .dataframe tbody tr th:only-of-type {\n",
       "        vertical-align: middle;\n",
       "    }\n",
       "\n",
       "    .dataframe tbody tr th {\n",
       "        vertical-align: top;\n",
       "    }\n",
       "\n",
       "    .dataframe thead th {\n",
       "        text-align: right;\n",
       "    }\n",
       "</style>\n",
       "<table border=\"1\" class=\"dataframe\">\n",
       "  <thead>\n",
       "    <tr style=\"text-align: right;\">\n",
       "      <th></th>\n",
       "      <th>course_id</th>\n",
       "      <th>course_title</th>\n",
       "      <th>url</th>\n",
       "      <th>is_paid</th>\n",
       "      <th>price</th>\n",
       "      <th>num_subscribers</th>\n",
       "      <th>num_reviews</th>\n",
       "      <th>num_lectures</th>\n",
       "      <th>level</th>\n",
       "      <th>content_duration</th>\n",
       "      <th>published_timestamp</th>\n",
       "      <th>subject</th>\n",
       "    </tr>\n",
       "  </thead>\n",
       "  <tbody>\n",
       "    <tr>\n",
       "      <th>0</th>\n",
       "      <td>1070968</td>\n",
       "      <td>Ultimate Investment Banking Course</td>\n",
       "      <td>https://www.udemy.com/ultimate-investment-bank...</td>\n",
       "      <td>True</td>\n",
       "      <td>200</td>\n",
       "      <td>2147</td>\n",
       "      <td>23</td>\n",
       "      <td>51</td>\n",
       "      <td>All Levels</td>\n",
       "      <td>1.5</td>\n",
       "      <td>2017-01-18T20:58:58Z</td>\n",
       "      <td>Business Finance</td>\n",
       "    </tr>\n",
       "    <tr>\n",
       "      <th>1</th>\n",
       "      <td>1113822</td>\n",
       "      <td>Complete GST Course &amp; Certification - Grow You...</td>\n",
       "      <td>https://www.udemy.com/goods-and-services-tax/</td>\n",
       "      <td>True</td>\n",
       "      <td>75</td>\n",
       "      <td>2792</td>\n",
       "      <td>923</td>\n",
       "      <td>274</td>\n",
       "      <td>All Levels</td>\n",
       "      <td>39.0</td>\n",
       "      <td>2017-03-09T16:34:20Z</td>\n",
       "      <td>Business Finance</td>\n",
       "    </tr>\n",
       "    <tr>\n",
       "      <th>2</th>\n",
       "      <td>1006314</td>\n",
       "      <td>Financial Modeling for Business Analysts and C...</td>\n",
       "      <td>https://www.udemy.com/financial-modeling-for-b...</td>\n",
       "      <td>True</td>\n",
       "      <td>45</td>\n",
       "      <td>2174</td>\n",
       "      <td>74</td>\n",
       "      <td>51</td>\n",
       "      <td>Intermediate Level</td>\n",
       "      <td>2.5</td>\n",
       "      <td>2016-12-19T19:26:30Z</td>\n",
       "      <td>Business Finance</td>\n",
       "    </tr>\n",
       "    <tr>\n",
       "      <th>3</th>\n",
       "      <td>1210588</td>\n",
       "      <td>Beginner to Pro - Financial Analysis in Excel ...</td>\n",
       "      <td>https://www.udemy.com/complete-excel-finance-c...</td>\n",
       "      <td>True</td>\n",
       "      <td>95</td>\n",
       "      <td>2451</td>\n",
       "      <td>11</td>\n",
       "      <td>36</td>\n",
       "      <td>All Levels</td>\n",
       "      <td>3.0</td>\n",
       "      <td>2017-05-30T20:07:24Z</td>\n",
       "      <td>Business Finance</td>\n",
       "    </tr>\n",
       "    <tr>\n",
       "      <th>4</th>\n",
       "      <td>1011058</td>\n",
       "      <td>How To Maximize Your Profits Trading Options</td>\n",
       "      <td>https://www.udemy.com/how-to-maximize-your-pro...</td>\n",
       "      <td>True</td>\n",
       "      <td>200</td>\n",
       "      <td>1276</td>\n",
       "      <td>45</td>\n",
       "      <td>26</td>\n",
       "      <td>Intermediate Level</td>\n",
       "      <td>2.0</td>\n",
       "      <td>2016-12-13T14:57:18Z</td>\n",
       "      <td>Business Finance</td>\n",
       "    </tr>\n",
       "  </tbody>\n",
       "</table>\n",
       "</div>"
      ],
      "text/plain": [
       "   course_id                                       course_title  \\\n",
       "0    1070968                 Ultimate Investment Banking Course   \n",
       "1    1113822  Complete GST Course & Certification - Grow You...   \n",
       "2    1006314  Financial Modeling for Business Analysts and C...   \n",
       "3    1210588  Beginner to Pro - Financial Analysis in Excel ...   \n",
       "4    1011058       How To Maximize Your Profits Trading Options   \n",
       "\n",
       "                                                 url  is_paid  price  \\\n",
       "0  https://www.udemy.com/ultimate-investment-bank...     True    200   \n",
       "1      https://www.udemy.com/goods-and-services-tax/     True     75   \n",
       "2  https://www.udemy.com/financial-modeling-for-b...     True     45   \n",
       "3  https://www.udemy.com/complete-excel-finance-c...     True     95   \n",
       "4  https://www.udemy.com/how-to-maximize-your-pro...     True    200   \n",
       "\n",
       "   num_subscribers  num_reviews  num_lectures               level  \\\n",
       "0             2147           23            51          All Levels   \n",
       "1             2792          923           274          All Levels   \n",
       "2             2174           74            51  Intermediate Level   \n",
       "3             2451           11            36          All Levels   \n",
       "4             1276           45            26  Intermediate Level   \n",
       "\n",
       "   content_duration   published_timestamp           subject  \n",
       "0               1.5  2017-01-18T20:58:58Z  Business Finance  \n",
       "1              39.0  2017-03-09T16:34:20Z  Business Finance  \n",
       "2               2.5  2016-12-19T19:26:30Z  Business Finance  \n",
       "3               3.0  2017-05-30T20:07:24Z  Business Finance  \n",
       "4               2.0  2016-12-13T14:57:18Z  Business Finance  "
      ]
     },
     "execution_count": 62,
     "metadata": {},
     "output_type": "execute_result"
    }
   ],
   "source": [
    "df.head()"
   ]
  },
  {
   "cell_type": "markdown",
   "metadata": {},
   "source": [
    "#### Summary of dataset"
   ]
  },
  {
   "cell_type": "code",
   "execution_count": 63,
   "metadata": {
    "colab": {
     "base_uri": "https://localhost:8080/",
     "height": 340
    },
    "colab_type": "code",
    "id": "Bq8y4D3so9xr",
    "outputId": "67b8783c-094c-4b05-b98b-ed3820072fb1"
   },
   "outputs": [
    {
     "name": "stdout",
     "output_type": "stream",
     "text": [
      "<class 'pandas.core.frame.DataFrame'>\n",
      "RangeIndex: 3678 entries, 0 to 3677\n",
      "Data columns (total 12 columns):\n",
      "course_id              3678 non-null int64\n",
      "course_title           3678 non-null object\n",
      "url                    3678 non-null object\n",
      "is_paid                3678 non-null bool\n",
      "price                  3678 non-null int64\n",
      "num_subscribers        3678 non-null int64\n",
      "num_reviews            3678 non-null int64\n",
      "num_lectures           3678 non-null int64\n",
      "level                  3678 non-null object\n",
      "content_duration       3678 non-null float64\n",
      "published_timestamp    3678 non-null object\n",
      "subject                3678 non-null object\n",
      "dtypes: bool(1), float64(1), int64(5), object(5)\n",
      "memory usage: 319.7+ KB\n"
     ]
    }
   ],
   "source": [
    "df.info()"
   ]
  },
  {
   "cell_type": "markdown",
   "metadata": {},
   "source": [
    "#### Summary Statistics of dataset"
   ]
  },
  {
   "cell_type": "code",
   "execution_count": 64,
   "metadata": {
    "colab": {
     "base_uri": "https://localhost:8080/",
     "height": 297
    },
    "colab_type": "code",
    "id": "f1lRdrQho9xw",
    "outputId": "5adbb5a6-9d9f-4286-eeaa-7d929e2c3f19"
   },
   "outputs": [
    {
     "data": {
      "text/html": [
       "<div>\n",
       "<style scoped>\n",
       "    .dataframe tbody tr th:only-of-type {\n",
       "        vertical-align: middle;\n",
       "    }\n",
       "\n",
       "    .dataframe tbody tr th {\n",
       "        vertical-align: top;\n",
       "    }\n",
       "\n",
       "    .dataframe thead th {\n",
       "        text-align: right;\n",
       "    }\n",
       "</style>\n",
       "<table border=\"1\" class=\"dataframe\">\n",
       "  <thead>\n",
       "    <tr style=\"text-align: right;\">\n",
       "      <th></th>\n",
       "      <th>course_id</th>\n",
       "      <th>price</th>\n",
       "      <th>num_subscribers</th>\n",
       "      <th>num_reviews</th>\n",
       "      <th>num_lectures</th>\n",
       "      <th>content_duration</th>\n",
       "    </tr>\n",
       "  </thead>\n",
       "  <tbody>\n",
       "    <tr>\n",
       "      <th>count</th>\n",
       "      <td>3.678000e+03</td>\n",
       "      <td>3678.000000</td>\n",
       "      <td>3678.000000</td>\n",
       "      <td>3678.000000</td>\n",
       "      <td>3678.000000</td>\n",
       "      <td>3678.000000</td>\n",
       "    </tr>\n",
       "    <tr>\n",
       "      <th>mean</th>\n",
       "      <td>6.759720e+05</td>\n",
       "      <td>66.049483</td>\n",
       "      <td>3197.150625</td>\n",
       "      <td>156.259108</td>\n",
       "      <td>40.108755</td>\n",
       "      <td>4.094517</td>\n",
       "    </tr>\n",
       "    <tr>\n",
       "      <th>std</th>\n",
       "      <td>3.432732e+05</td>\n",
       "      <td>61.005755</td>\n",
       "      <td>9504.117010</td>\n",
       "      <td>935.452044</td>\n",
       "      <td>50.383346</td>\n",
       "      <td>6.053840</td>\n",
       "    </tr>\n",
       "    <tr>\n",
       "      <th>min</th>\n",
       "      <td>8.324000e+03</td>\n",
       "      <td>0.000000</td>\n",
       "      <td>0.000000</td>\n",
       "      <td>0.000000</td>\n",
       "      <td>0.000000</td>\n",
       "      <td>0.000000</td>\n",
       "    </tr>\n",
       "    <tr>\n",
       "      <th>25%</th>\n",
       "      <td>4.076925e+05</td>\n",
       "      <td>20.000000</td>\n",
       "      <td>111.000000</td>\n",
       "      <td>4.000000</td>\n",
       "      <td>15.000000</td>\n",
       "      <td>1.000000</td>\n",
       "    </tr>\n",
       "    <tr>\n",
       "      <th>50%</th>\n",
       "      <td>6.879170e+05</td>\n",
       "      <td>45.000000</td>\n",
       "      <td>911.500000</td>\n",
       "      <td>18.000000</td>\n",
       "      <td>25.000000</td>\n",
       "      <td>2.000000</td>\n",
       "    </tr>\n",
       "    <tr>\n",
       "      <th>75%</th>\n",
       "      <td>9.613555e+05</td>\n",
       "      <td>95.000000</td>\n",
       "      <td>2546.000000</td>\n",
       "      <td>67.000000</td>\n",
       "      <td>45.750000</td>\n",
       "      <td>4.500000</td>\n",
       "    </tr>\n",
       "    <tr>\n",
       "      <th>max</th>\n",
       "      <td>1.282064e+06</td>\n",
       "      <td>200.000000</td>\n",
       "      <td>268923.000000</td>\n",
       "      <td>27445.000000</td>\n",
       "      <td>779.000000</td>\n",
       "      <td>78.500000</td>\n",
       "    </tr>\n",
       "  </tbody>\n",
       "</table>\n",
       "</div>"
      ],
      "text/plain": [
       "          course_id        price  num_subscribers   num_reviews  num_lectures  \\\n",
       "count  3.678000e+03  3678.000000      3678.000000   3678.000000   3678.000000   \n",
       "mean   6.759720e+05    66.049483      3197.150625    156.259108     40.108755   \n",
       "std    3.432732e+05    61.005755      9504.117010    935.452044     50.383346   \n",
       "min    8.324000e+03     0.000000         0.000000      0.000000      0.000000   \n",
       "25%    4.076925e+05    20.000000       111.000000      4.000000     15.000000   \n",
       "50%    6.879170e+05    45.000000       911.500000     18.000000     25.000000   \n",
       "75%    9.613555e+05    95.000000      2546.000000     67.000000     45.750000   \n",
       "max    1.282064e+06   200.000000    268923.000000  27445.000000    779.000000   \n",
       "\n",
       "       content_duration  \n",
       "count       3678.000000  \n",
       "mean           4.094517  \n",
       "std            6.053840  \n",
       "min            0.000000  \n",
       "25%            1.000000  \n",
       "50%            2.000000  \n",
       "75%            4.500000  \n",
       "max           78.500000  "
      ]
     },
     "execution_count": 64,
     "metadata": {},
     "output_type": "execute_result"
    }
   ],
   "source": [
    "df.describe()"
   ]
  },
  {
   "cell_type": "markdown",
   "metadata": {},
   "source": [
    "#### Finding Duplicates in dataset."
   ]
  },
  {
   "cell_type": "code",
   "execution_count": 65,
   "metadata": {
    "colab": {
     "base_uri": "https://localhost:8080/",
     "height": 235
    },
    "colab_type": "code",
    "id": "T6rhziZxo9x0",
    "outputId": "2362ecb4-c7e5-4f7e-95a4-bc5ab2f5b088"
   },
   "outputs": [
    {
     "data": {
      "text/html": [
       "<div>\n",
       "<style scoped>\n",
       "    .dataframe tbody tr th:only-of-type {\n",
       "        vertical-align: middle;\n",
       "    }\n",
       "\n",
       "    .dataframe tbody tr th {\n",
       "        vertical-align: top;\n",
       "    }\n",
       "\n",
       "    .dataframe thead th {\n",
       "        text-align: right;\n",
       "    }\n",
       "</style>\n",
       "<table border=\"1\" class=\"dataframe\">\n",
       "  <thead>\n",
       "    <tr style=\"text-align: right;\">\n",
       "      <th></th>\n",
       "      <th>course_id</th>\n",
       "      <th>course_title</th>\n",
       "      <th>url</th>\n",
       "      <th>is_paid</th>\n",
       "      <th>price</th>\n",
       "      <th>num_subscribers</th>\n",
       "      <th>num_reviews</th>\n",
       "      <th>num_lectures</th>\n",
       "      <th>level</th>\n",
       "      <th>content_duration</th>\n",
       "      <th>published_timestamp</th>\n",
       "      <th>subject</th>\n",
       "    </tr>\n",
       "  </thead>\n",
       "  <tbody>\n",
       "    <tr>\n",
       "      <th>787</th>\n",
       "      <td>837322</td>\n",
       "      <td>Essentials of money value: Get a financial Life !</td>\n",
       "      <td>https://www.udemy.com/essentials-of-money-value/</td>\n",
       "      <td>True</td>\n",
       "      <td>20</td>\n",
       "      <td>0</td>\n",
       "      <td>0</td>\n",
       "      <td>20</td>\n",
       "      <td>All Levels</td>\n",
       "      <td>0.616667</td>\n",
       "      <td>2016-05-16T18:28:30Z</td>\n",
       "      <td>Business Finance</td>\n",
       "    </tr>\n",
       "    <tr>\n",
       "      <th>788</th>\n",
       "      <td>1157298</td>\n",
       "      <td>Introduction to Forex Trading Business For Beg...</td>\n",
       "      <td>https://www.udemy.com/introduction-to-forex-tr...</td>\n",
       "      <td>True</td>\n",
       "      <td>20</td>\n",
       "      <td>0</td>\n",
       "      <td>0</td>\n",
       "      <td>27</td>\n",
       "      <td>Beginner Level</td>\n",
       "      <td>1.500000</td>\n",
       "      <td>2017-04-23T16:19:01Z</td>\n",
       "      <td>Business Finance</td>\n",
       "    </tr>\n",
       "    <tr>\n",
       "      <th>894</th>\n",
       "      <td>1035638</td>\n",
       "      <td>Understanding Financial Statements</td>\n",
       "      <td>https://www.udemy.com/understanding-financial-...</td>\n",
       "      <td>True</td>\n",
       "      <td>25</td>\n",
       "      <td>0</td>\n",
       "      <td>0</td>\n",
       "      <td>10</td>\n",
       "      <td>All Levels</td>\n",
       "      <td>1.000000</td>\n",
       "      <td>2016-12-15T14:56:17Z</td>\n",
       "      <td>Business Finance</td>\n",
       "    </tr>\n",
       "    <tr>\n",
       "      <th>1100</th>\n",
       "      <td>1084454</td>\n",
       "      <td>CFA Level 2- Quantitative Methods</td>\n",
       "      <td>https://www.udemy.com/cfa-level-2-quantitative...</td>\n",
       "      <td>True</td>\n",
       "      <td>40</td>\n",
       "      <td>0</td>\n",
       "      <td>0</td>\n",
       "      <td>35</td>\n",
       "      <td>All Levels</td>\n",
       "      <td>5.500000</td>\n",
       "      <td>2017-07-02T14:29:35Z</td>\n",
       "      <td>Business Finance</td>\n",
       "    </tr>\n",
       "    <tr>\n",
       "      <th>1473</th>\n",
       "      <td>185526</td>\n",
       "      <td>MicroStation - Células</td>\n",
       "      <td>https://www.udemy.com/microstation-celulas/</td>\n",
       "      <td>True</td>\n",
       "      <td>20</td>\n",
       "      <td>0</td>\n",
       "      <td>0</td>\n",
       "      <td>9</td>\n",
       "      <td>Beginner Level</td>\n",
       "      <td>0.616667</td>\n",
       "      <td>2014-04-15T21:48:55Z</td>\n",
       "      <td>Graphic Design</td>\n",
       "    </tr>\n",
       "    <tr>\n",
       "      <th>2561</th>\n",
       "      <td>28295</td>\n",
       "      <td>Learn Web Designing &amp; HTML5/CSS3 Essentials in...</td>\n",
       "      <td>https://www.udemy.com/build-beautiful-html5-we...</td>\n",
       "      <td>True</td>\n",
       "      <td>75</td>\n",
       "      <td>43285</td>\n",
       "      <td>525</td>\n",
       "      <td>24</td>\n",
       "      <td>All Levels</td>\n",
       "      <td>4.000000</td>\n",
       "      <td>2013-01-03T00:55:31Z</td>\n",
       "      <td>Web Development</td>\n",
       "    </tr>\n",
       "  </tbody>\n",
       "</table>\n",
       "</div>"
      ],
      "text/plain": [
       "      course_id                                       course_title  \\\n",
       "787      837322  Essentials of money value: Get a financial Life !   \n",
       "788     1157298  Introduction to Forex Trading Business For Beg...   \n",
       "894     1035638                 Understanding Financial Statements   \n",
       "1100    1084454                  CFA Level 2- Quantitative Methods   \n",
       "1473     185526                             MicroStation - Células   \n",
       "2561      28295  Learn Web Designing & HTML5/CSS3 Essentials in...   \n",
       "\n",
       "                                                    url  is_paid  price  \\\n",
       "787    https://www.udemy.com/essentials-of-money-value/     True     20   \n",
       "788   https://www.udemy.com/introduction-to-forex-tr...     True     20   \n",
       "894   https://www.udemy.com/understanding-financial-...     True     25   \n",
       "1100  https://www.udemy.com/cfa-level-2-quantitative...     True     40   \n",
       "1473        https://www.udemy.com/microstation-celulas/     True     20   \n",
       "2561  https://www.udemy.com/build-beautiful-html5-we...     True     75   \n",
       "\n",
       "      num_subscribers  num_reviews  num_lectures           level  \\\n",
       "787                 0            0            20      All Levels   \n",
       "788                 0            0            27  Beginner Level   \n",
       "894                 0            0            10      All Levels   \n",
       "1100                0            0            35      All Levels   \n",
       "1473                0            0             9  Beginner Level   \n",
       "2561            43285          525            24      All Levels   \n",
       "\n",
       "      content_duration   published_timestamp           subject  \n",
       "787           0.616667  2016-05-16T18:28:30Z  Business Finance  \n",
       "788           1.500000  2017-04-23T16:19:01Z  Business Finance  \n",
       "894           1.000000  2016-12-15T14:56:17Z  Business Finance  \n",
       "1100          5.500000  2017-07-02T14:29:35Z  Business Finance  \n",
       "1473          0.616667  2014-04-15T21:48:55Z    Graphic Design  \n",
       "2561          4.000000  2013-01-03T00:55:31Z   Web Development  "
      ]
     },
     "execution_count": 65,
     "metadata": {},
     "output_type": "execute_result"
    }
   ],
   "source": [
    "\n",
    "df[df.duplicated()]"
   ]
  },
  {
   "cell_type": "markdown",
   "metadata": {},
   "source": [
    "#### View the distinct Difficulty Levels"
   ]
  },
  {
   "cell_type": "code",
   "execution_count": 66,
   "metadata": {
    "colab": {
     "base_uri": "https://localhost:8080/",
     "height": 51
    },
    "colab_type": "code",
    "id": "xz-bt4Fqo9x4",
    "outputId": "387a055f-6744-4a71-8191-43b33f640a5f"
   },
   "outputs": [
    {
     "data": {
      "text/plain": [
       "array(['All Levels', 'Intermediate Level', 'Beginner Level',\n",
       "       'Expert Level'], dtype=object)"
      ]
     },
     "execution_count": 66,
     "metadata": {},
     "output_type": "execute_result"
    }
   ],
   "source": [
    "df.level.unique()"
   ]
  },
  {
   "cell_type": "markdown",
   "metadata": {},
   "source": [
    "#### View the distinct subjects."
   ]
  },
  {
   "cell_type": "code",
   "execution_count": 67,
   "metadata": {
    "colab": {
     "base_uri": "https://localhost:8080/",
     "height": 51
    },
    "colab_type": "code",
    "id": "mZLugIT2o9x9",
    "outputId": "509a4bee-7051-4c4a-8f56-62e49a7d257e"
   },
   "outputs": [
    {
     "data": {
      "text/plain": [
       "array(['Business Finance', 'Graphic Design', 'Musical Instruments',\n",
       "       'Web Development'], dtype=object)"
      ]
     },
     "execution_count": 67,
     "metadata": {},
     "output_type": "execute_result"
    }
   ],
   "source": [
    "df.subject.unique()"
   ]
  },
  {
   "cell_type": "markdown",
   "metadata": {},
   "source": [
    "#### View Paid or Free status"
   ]
  },
  {
   "cell_type": "code",
   "execution_count": 68,
   "metadata": {
    "colab": {
     "base_uri": "https://localhost:8080/",
     "height": 34
    },
    "colab_type": "code",
    "id": "_2ER45TZo9yB",
    "outputId": "c907241e-b0cb-48ce-996f-b75ba340dcb1"
   },
   "outputs": [
    {
     "data": {
      "text/plain": [
       "array([ True, False])"
      ]
     },
     "execution_count": 68,
     "metadata": {},
     "output_type": "execute_result"
    }
   ],
   "source": [
    "df.is_paid.unique()"
   ]
  },
  {
   "cell_type": "markdown",
   "metadata": {},
   "source": [
    "#### Paid courses with prices less than or equal to 0.\n",
    "#### Courses that are Paid should Not have a Price less than or equal to 0"
   ]
  },
  {
   "cell_type": "code",
   "execution_count": 69,
   "metadata": {
    "colab": {
     "base_uri": "https://localhost:8080/",
     "height": 49
    },
    "colab_type": "code",
    "id": "4GA2vZQAo9yF",
    "outputId": "7c27f3f1-eb81-46c1-8fb9-875d2610da74"
   },
   "outputs": [
    {
     "data": {
      "text/html": [
       "<div>\n",
       "<style scoped>\n",
       "    .dataframe tbody tr th:only-of-type {\n",
       "        vertical-align: middle;\n",
       "    }\n",
       "\n",
       "    .dataframe tbody tr th {\n",
       "        vertical-align: top;\n",
       "    }\n",
       "\n",
       "    .dataframe thead th {\n",
       "        text-align: right;\n",
       "    }\n",
       "</style>\n",
       "<table border=\"1\" class=\"dataframe\">\n",
       "  <thead>\n",
       "    <tr style=\"text-align: right;\">\n",
       "      <th></th>\n",
       "      <th>course_id</th>\n",
       "      <th>course_title</th>\n",
       "      <th>url</th>\n",
       "      <th>is_paid</th>\n",
       "      <th>price</th>\n",
       "      <th>num_subscribers</th>\n",
       "      <th>num_reviews</th>\n",
       "      <th>num_lectures</th>\n",
       "      <th>level</th>\n",
       "      <th>content_duration</th>\n",
       "      <th>published_timestamp</th>\n",
       "      <th>subject</th>\n",
       "    </tr>\n",
       "  </thead>\n",
       "  <tbody>\n",
       "  </tbody>\n",
       "</table>\n",
       "</div>"
      ],
      "text/plain": [
       "Empty DataFrame\n",
       "Columns: [course_id, course_title, url, is_paid, price, num_subscribers, num_reviews, num_lectures, level, content_duration, published_timestamp, subject]\n",
       "Index: []"
      ]
     },
     "execution_count": 69,
     "metadata": {},
     "output_type": "execute_result"
    }
   ],
   "source": [
    "df[(df.is_paid) & (df.price <= 0)]"
   ]
  },
  {
   "cell_type": "markdown",
   "metadata": {
    "colab_type": "text",
    "id": "A3CpVMAlo9yM"
   },
   "source": [
    "### Data Cleaning\n",
    "1. Duplicates in dataset.\n",
    "2. Erroneous datatypes <br/>\n",
    "- `level` changed to an `ordered category`\n",
    "- `subject changed` to `category`\n",
    "- `published_timestamp`  changed to `datetime`"
   ]
  },
  {
   "cell_type": "markdown",
   "metadata": {},
   "source": [
    "#### Create a copy of the original dataframe before cleaning."
   ]
  },
  {
   "cell_type": "code",
   "execution_count": 70,
   "metadata": {
    "colab": {},
    "colab_type": "code",
    "id": "oCXqTLQG5NfI"
   },
   "outputs": [],
   "source": [
    "df_clean = df.copy()"
   ]
  },
  {
   "cell_type": "markdown",
   "metadata": {},
   "source": [
    "#### Remove duplicates"
   ]
  },
  {
   "cell_type": "code",
   "execution_count": 71,
   "metadata": {
    "colab": {},
    "colab_type": "code",
    "id": "mLazr844o9yO"
   },
   "outputs": [],
   "source": [
    "df_clean = df_clean[~df_clean.duplicated()]"
   ]
  },
  {
   "cell_type": "markdown",
   "metadata": {},
   "source": [
    "#### Confirm duplicates removal"
   ]
  },
  {
   "cell_type": "code",
   "execution_count": 72,
   "metadata": {
    "colab": {
     "base_uri": "https://localhost:8080/",
     "height": 49
    },
    "colab_type": "code",
    "id": "kdVk7afhwhS9",
    "outputId": "12da2815-215f-4cee-c5c6-ffc1c483bbac"
   },
   "outputs": [
    {
     "data": {
      "text/html": [
       "<div>\n",
       "<style scoped>\n",
       "    .dataframe tbody tr th:only-of-type {\n",
       "        vertical-align: middle;\n",
       "    }\n",
       "\n",
       "    .dataframe tbody tr th {\n",
       "        vertical-align: top;\n",
       "    }\n",
       "\n",
       "    .dataframe thead th {\n",
       "        text-align: right;\n",
       "    }\n",
       "</style>\n",
       "<table border=\"1\" class=\"dataframe\">\n",
       "  <thead>\n",
       "    <tr style=\"text-align: right;\">\n",
       "      <th></th>\n",
       "      <th>course_id</th>\n",
       "      <th>course_title</th>\n",
       "      <th>url</th>\n",
       "      <th>is_paid</th>\n",
       "      <th>price</th>\n",
       "      <th>num_subscribers</th>\n",
       "      <th>num_reviews</th>\n",
       "      <th>num_lectures</th>\n",
       "      <th>level</th>\n",
       "      <th>content_duration</th>\n",
       "      <th>published_timestamp</th>\n",
       "      <th>subject</th>\n",
       "    </tr>\n",
       "  </thead>\n",
       "  <tbody>\n",
       "  </tbody>\n",
       "</table>\n",
       "</div>"
      ],
      "text/plain": [
       "Empty DataFrame\n",
       "Columns: [course_id, course_title, url, is_paid, price, num_subscribers, num_reviews, num_lectures, level, content_duration, published_timestamp, subject]\n",
       "Index: []"
      ]
     },
     "execution_count": 72,
     "metadata": {},
     "output_type": "execute_result"
    }
   ],
   "source": [
    "df_clean[df_clean.duplicated()]"
   ]
  },
  {
   "cell_type": "markdown",
   "metadata": {},
   "source": [
    "#### Change datatypes"
   ]
  },
  {
   "cell_type": "code",
   "execution_count": 73,
   "metadata": {
    "colab": {},
    "colab_type": "code",
    "id": "1mnptK-5wnK2"
   },
   "outputs": [],
   "source": [
    "df_clean.subject = df_clean.subject.astype('category')\n",
    "df_clean.published_timestamp = pd.to_datetime(df_clean.published_timestamp)\n",
    "ordered_levels = pd.api.types.CategoricalDtype(ordered=True, categories=['Beginner Level', 'Intermediate Level', 'Expert Level', 'All Levels'])\n",
    "df_clean.level = df_clean.level.astype(ordered_levels)"
   ]
  },
  {
   "cell_type": "markdown",
   "metadata": {},
   "source": [
    "#### Confirm data type changes"
   ]
  },
  {
   "cell_type": "code",
   "execution_count": 74,
   "metadata": {
    "colab": {
     "base_uri": "https://localhost:8080/",
     "height": 340
    },
    "colab_type": "code",
    "id": "eoS_xstszpuX",
    "outputId": "f348e9b6-ac65-4b0d-98ac-b4a84aedcbc7"
   },
   "outputs": [
    {
     "name": "stdout",
     "output_type": "stream",
     "text": [
      "<class 'pandas.core.frame.DataFrame'>\n",
      "Int64Index: 3672 entries, 0 to 3677\n",
      "Data columns (total 12 columns):\n",
      "course_id              3672 non-null int64\n",
      "course_title           3672 non-null object\n",
      "url                    3672 non-null object\n",
      "is_paid                3672 non-null bool\n",
      "price                  3672 non-null int64\n",
      "num_subscribers        3672 non-null int64\n",
      "num_reviews            3672 non-null int64\n",
      "num_lectures           3672 non-null int64\n",
      "level                  3672 non-null category\n",
      "content_duration       3672 non-null float64\n",
      "published_timestamp    3672 non-null datetime64[ns]\n",
      "subject                3672 non-null category\n",
      "dtypes: bool(1), category(2), datetime64[ns](1), float64(1), int64(5), object(2)\n",
      "memory usage: 298.0+ KB\n"
     ]
    }
   ],
   "source": [
    "df_clean.info()"
   ]
  },
  {
   "cell_type": "markdown",
   "metadata": {},
   "source": [
    "#### View timestamp data"
   ]
  },
  {
   "cell_type": "code",
   "execution_count": 75,
   "metadata": {
    "colab": {
     "base_uri": "https://localhost:8080/",
     "height": 119
    },
    "colab_type": "code",
    "id": "iHGP_BBSzwBv",
    "outputId": "d6ea99aa-4f44-41ad-acb3-395d5170f27b"
   },
   "outputs": [
    {
     "data": {
      "text/plain": [
       "0   2017-01-18 20:58:58\n",
       "1   2017-03-09 16:34:20\n",
       "2   2016-12-19 19:26:30\n",
       "3   2017-05-30 20:07:24\n",
       "4   2016-12-13 14:57:18\n",
       "Name: published_timestamp, dtype: datetime64[ns]"
      ]
     },
     "execution_count": 75,
     "metadata": {},
     "output_type": "execute_result"
    }
   ],
   "source": [
    "df_clean.published_timestamp.head()"
   ]
  },
  {
   "cell_type": "markdown",
   "metadata": {},
   "source": [
    "#### View various subjects"
   ]
  },
  {
   "cell_type": "code",
   "execution_count": 76,
   "metadata": {
    "colab": {
     "base_uri": "https://localhost:8080/",
     "height": 51
    },
    "colab_type": "code",
    "id": "w3xi55GPz_7F",
    "outputId": "2a3fef68-2793-4cc4-9f8b-f02f8295f5ef"
   },
   "outputs": [
    {
     "data": {
      "text/plain": [
       "[Business Finance, Graphic Design, Musical Instruments, Web Development]\n",
       "Categories (4, object): [Business Finance, Graphic Design, Musical Instruments, Web Development]"
      ]
     },
     "execution_count": 76,
     "metadata": {},
     "output_type": "execute_result"
    }
   ],
   "source": [
    "df_clean.subject.unique()"
   ]
  },
  {
   "cell_type": "markdown",
   "metadata": {},
   "source": [
    "#### View the various levels"
   ]
  },
  {
   "cell_type": "code",
   "execution_count": 77,
   "metadata": {
    "colab": {
     "base_uri": "https://localhost:8080/",
     "height": 51
    },
    "colab_type": "code",
    "id": "G1Z82Eyt0FH5",
    "outputId": "9420085b-9452-4464-f45c-8dffdb0846e3"
   },
   "outputs": [
    {
     "data": {
      "text/plain": [
       "[All Levels, Intermediate Level, Beginner Level, Expert Level]\n",
       "Categories (4, object): [Beginner Level < Intermediate Level < Expert Level < All Levels]"
      ]
     },
     "execution_count": 77,
     "metadata": {},
     "output_type": "execute_result"
    }
   ],
   "source": [
    "df_clean.level.unique()"
   ]
  },
  {
   "cell_type": "markdown",
   "metadata": {
    "colab_type": "text",
    "id": "X59ZEe1LBxYB"
   },
   "source": [
    "# Analysis and Visualizations"
   ]
  },
  {
   "cell_type": "markdown",
   "metadata": {},
   "source": [
    "#### Distribution of Prices"
   ]
  },
  {
   "cell_type": "code",
   "execution_count": 78,
   "metadata": {
    "colab": {
     "base_uri": "https://localhost:8080/",
     "height": 621
    },
    "colab_type": "code",
    "id": "qmSYqFdeHBh8",
    "outputId": "8933ffb7-7cc0-4a16-d5c7-f01d15df6ae3"
   },
   "outputs": [
    {
     "data": {
      "image/png": "[encoded data removed]",
      "text/plain": [
       "<Figure size 1080x720 with 1 Axes>"
      ]
     },
     "metadata": {
      "needs_background": "light"
     },
     "output_type": "display_data"
    }
   ],
   "source": [
    "plt.figure(figsize=(15,10))\n",
    "bins = np.arange(df_clean['price'].min(), df_clean['price'].max()+10, 10)\n",
    "plt.hist(df_clean['price'],bins=bins)\n",
    "plt.xlabel('Price ($)')\n",
    "plt.ylabel('Number of Courses')\n",
    "plt.title('Distribution of Price of courses')\n",
    "plt.show();"
   ]
  },
  {
   "cell_type": "markdown",
   "metadata": {},
   "source": [
    "#### Distribution of Number of Subscribers"
   ]
  },
  {
   "cell_type": "code",
   "execution_count": 79,
   "metadata": {
    "colab": {
     "base_uri": "https://localhost:8080/",
     "height": 621
    },
    "colab_type": "code",
    "id": "YfcORHnOIbZm",
    "outputId": "b204eee6-f6eb-4071-9569-70bedeb77bd5"
   },
   "outputs": [
    {
     "data": {
      "image/png": "[encoded data removed]",
      "text/plain": [
       "<Figure size 1080x720 with 1 Axes>"
      ]
     },
     "metadata": {
      "needs_background": "light"
     },
     "output_type": "display_data"
    }
   ],
   "source": [
    "plt.figure(figsize=(15,10))\n",
    "bins = np.arange(df_clean['num_subscribers'].min(), df_clean['num_subscribers'].max()+500, 500)\n",
    "plt.hist(df_clean['num_subscribers'],bins=bins)\n",
    "plt.xlabel('Number of Subscribers')\n",
    "plt.ylabel('Number of Courses')\n",
    "plt.title('Distribution of Number of Subscribers')\n",
    "plt.xlim(0,20000)\n",
    "plt.show();"
   ]
  },
  {
   "cell_type": "code",
   "execution_count": 80,
   "metadata": {
    "colab": {
     "base_uri": "https://localhost:8080/",
     "height": 68
    },
    "colab_type": "code",
    "id": "fGreVYaw8OSU",
    "outputId": "891029a6-94ea-4eda-9316-6b243ebb8e23"
   },
   "outputs": [
    {
     "name": "stdout",
     "output_type": "stream",
     "text": [
      "   index  number\n",
      "0   True    3362\n",
      "1  False     310\n"
     ]
    }
   ],
   "source": [
    "paid_and_free_courses = df_clean.is_paid.value_counts().reset_index(name=\"number\")\n",
    "print(paid_and_free_courses)"
   ]
  },
  {
   "cell_type": "markdown",
   "metadata": {},
   "source": [
    "#### Distribution of paid and free udemy courses"
   ]
  },
  {
   "cell_type": "code",
   "execution_count": 81,
   "metadata": {
    "colab": {
     "base_uri": "https://localhost:8080/",
     "height": 591
    },
    "colab_type": "code",
    "id": "Vp6UCN_5-Ej0",
    "outputId": "1c71bf0b-24b2-4bed-cffc-9d677c73bc9c"
   },
   "outputs": [
    {
     "data": {
      "image/png": "[encoded data removed]",
      "text/plain": [
       "<Figure size 720x720 with 1 Axes>"
      ]
     },
     "metadata": {},
     "output_type": "display_data"
    }
   ],
   "source": [
    "# Get the number of paid and free courses\n",
    "paid_and_free_courses = df_clean.is_paid.value_counts().reset_index(name=\"number\")\n",
    "\n",
    "# Display plot\n",
    "labels = ['Paid Courses', 'Free Courses']\n",
    "plt.figure(figsize=(10,10))\n",
    "plt.pie(paid_and_free_courses['number'], labels=labels, autopct='%1.1f%%')\n",
    "plt.title('Distribution of Paid and Free Udemy Courses')\n",
    "plt.show()"
   ]
  },
  {
   "cell_type": "markdown",
   "metadata": {},
   "source": [
    "#### The number of courses per subject."
   ]
  },
  {
   "cell_type": "code",
   "execution_count": 82,
   "metadata": {
    "colab": {
     "base_uri": "https://localhost:8080/",
     "height": 173
    },
    "colab_type": "code",
    "id": "cgPDO9foC1cD",
    "outputId": "40e2d275-5e28-4c87-ea88-8c232633fe8d"
   },
   "outputs": [
    {
     "data": {
      "text/html": [
       "<div>\n",
       "<style scoped>\n",
       "    .dataframe tbody tr th:only-of-type {\n",
       "        vertical-align: middle;\n",
       "    }\n",
       "\n",
       "    .dataframe tbody tr th {\n",
       "        vertical-align: top;\n",
       "    }\n",
       "\n",
       "    .dataframe thead th {\n",
       "        text-align: right;\n",
       "    }\n",
       "</style>\n",
       "<table border=\"1\" class=\"dataframe\">\n",
       "  <thead>\n",
       "    <tr style=\"text-align: right;\">\n",
       "      <th></th>\n",
       "      <th>index</th>\n",
       "      <th>total_number</th>\n",
       "    </tr>\n",
       "  </thead>\n",
       "  <tbody>\n",
       "    <tr>\n",
       "      <th>0</th>\n",
       "      <td>Web Development</td>\n",
       "      <td>1199</td>\n",
       "    </tr>\n",
       "    <tr>\n",
       "      <th>1</th>\n",
       "      <td>Business Finance</td>\n",
       "      <td>1191</td>\n",
       "    </tr>\n",
       "    <tr>\n",
       "      <th>2</th>\n",
       "      <td>Musical Instruments</td>\n",
       "      <td>680</td>\n",
       "    </tr>\n",
       "    <tr>\n",
       "      <th>3</th>\n",
       "      <td>Graphic Design</td>\n",
       "      <td>602</td>\n",
       "    </tr>\n",
       "  </tbody>\n",
       "</table>\n",
       "</div>"
      ],
      "text/plain": [
       "                 index  total_number\n",
       "0      Web Development          1199\n",
       "1     Business Finance          1191\n",
       "2  Musical Instruments           680\n",
       "3       Graphic Design           602"
      ]
     },
     "execution_count": 82,
     "metadata": {},
     "output_type": "execute_result"
    }
   ],
   "source": [
    "df_clean.subject.value_counts().reset_index(name='total_number')"
   ]
  },
  {
   "cell_type": "markdown",
   "metadata": {},
   "source": [
    "#### A plot showing the number of Courses Per Subject.\n"
   ]
  },
  {
   "cell_type": "code",
   "execution_count": 83,
   "metadata": {
    "colab": {
     "base_uri": "https://localhost:8080/",
     "height": 621
    },
    "colab_type": "code",
    "id": "20L_8AvVDTGv",
    "outputId": "dd3faf64-e3f7-4ddf-fb29-5808fa6b4ef8"
   },
   "outputs": [
    {
     "data": {
      "image/png": "[encoded data removed]",
      "text/plain": [
       "<Figure size 1080x720 with 1 Axes>"
      ]
     },
     "metadata": {
      "needs_background": "light"
     },
     "output_type": "display_data"
    }
   ],
   "source": [
    "# Set default color to be used by seaborn\n",
    "default_color = sns.color_palette()[0]\n",
    "\n",
    "# Bar Graph of Subject Distribution\n",
    "plt.figure(figsize=(15,10))\n",
    "sns.countplot(data= df_clean, x='subject', color=default_color)\n",
    "plt.title('Number of Courses Per Subject')\n",
    "plt.xlabel('Subjects')\n",
    "plt.ylabel('Number of Courses');"
   ]
  },
  {
   "cell_type": "markdown",
   "metadata": {},
   "source": [
    "#### Number of Courses Per Difficulty Level"
   ]
  },
  {
   "cell_type": "code",
   "execution_count": 84,
   "metadata": {
    "colab": {
     "base_uri": "https://localhost:8080/",
     "height": 350
    },
    "colab_type": "code",
    "id": "Dm_fG-yTlOS5",
    "outputId": "0ce297b7-6d1d-4a0f-d8fd-155addf569a7"
   },
   "outputs": [
    {
     "data": {
      "image/png": "[encoded data removed]",
      "text/plain": [
       "<Figure size 720x360 with 1 Axes>"
      ]
     },
     "metadata": {
      "needs_background": "light"
     },
     "output_type": "display_data"
    }
   ],
   "source": [
    "plt.figure(figsize=(10,5))\n",
    "sns.countplot(data= df_clean, x='level', color=default_color)\n",
    "plt.title('Number of Courses Per Difficulty Level')\n",
    "plt.xlabel('Difficulty Level')\n",
    "plt.ylabel('Number of Courses');\n"
   ]
  },
  {
   "cell_type": "markdown",
   "metadata": {},
   "source": [
    "#### Examine the Course Difficulty Levels Across the Various Subjects"
   ]
  },
  {
   "cell_type": "code",
   "execution_count": 85,
   "metadata": {
    "colab": {
     "base_uri": "https://localhost:8080/",
     "height": 323
    },
    "colab_type": "code",
    "id": "bR18GcmTIFzp",
    "outputId": "2b0e2872-bf0e-4017-cef1-406b7e3922b7"
   },
   "outputs": [
    {
     "data": {
      "text/plain": [
       "subject              level             \n",
       "Business Finance     Beginner Level        339\n",
       "                     Intermediate Level    128\n",
       "                     Expert Level           31\n",
       "                     All Levels            693\n",
       "Graphic Design       Beginner Level        242\n",
       "                     Intermediate Level     57\n",
       "                     Expert Level            5\n",
       "                     All Levels            298\n",
       "Musical Instruments  Beginner Level        296\n",
       "                     Intermediate Level    101\n",
       "                     Expert Level            7\n",
       "                     All Levels            276\n",
       "Web Development      Beginner Level        391\n",
       "                     Intermediate Level    135\n",
       "                     Expert Level           15\n",
       "                     All Levels            658\n",
       "dtype: int64"
      ]
     },
     "execution_count": 85,
     "metadata": {},
     "output_type": "execute_result"
    }
   ],
   "source": [
    "df_clean.groupby(['subject','level']).size()"
   ]
  },
  {
   "cell_type": "markdown",
   "metadata": {},
   "source": [
    "#### Plot Distribution of difficulty level per Subject"
   ]
  },
  {
   "cell_type": "code",
   "execution_count": 86,
   "metadata": {
    "colab": {
     "base_uri": "https://localhost:8080/",
     "height": 621
    },
    "colab_type": "code",
    "id": "mi48KD4WFh1S",
    "outputId": "a34494ff-4d10-45c9-aa34-94a283d7d773"
   },
   "outputs": [
    {
     "data": {
      "image/png": "[encoded data removed]",
      "text/plain": [
       "<Figure size 1080x720 with 1 Axes>"
      ]
     },
     "metadata": {
      "needs_background": "light"
     },
     "output_type": "display_data"
    }
   ],
   "source": [
    "plt.figure(figsize=(15,10))\n",
    "ax = sns.countplot(data=df_clean, x='subject', hue='level', color=default_color);\n",
    "plt.legend(bbox_to_anchor=(1.05, 1), loc=2, borderaxespad=0., title='Difficulty Levels')\n",
    "plt.title('Distribution of Difficulty Levels Per Subject');\n",
    "plt.xlabel('Subject')\n",
    "plt.ylabel('Number of Courses');"
   ]
  },
  {
   "cell_type": "markdown",
   "metadata": {},
   "source": [
    "#### Compare Difficulty Level and Price for Paid Courses"
   ]
  },
  {
   "cell_type": "code",
   "execution_count": 87,
   "metadata": {
    "colab": {
     "base_uri": "https://localhost:8080/",
     "height": 621
    },
    "colab_type": "code",
    "id": "hDociSjdd3sj",
    "outputId": "fc4a450a-c71f-47b1-8f5e-7c6fea95608b"
   },
   "outputs": [
    {
     "data": {
      "image/png": "[encoded data removed]",
      "text/plain": [
       "<Figure size 1080x720 with 1 Axes>"
      ]
     },
     "metadata": {
      "needs_background": "light"
     },
     "output_type": "display_data"
    }
   ],
   "source": [
    "paid_courses = df_clean[df_clean.is_paid]\n",
    "plt.figure(figsize=(15,10))\n",
    "sns.violinplot(data=paid_courses, x='level', y='price',\n",
    "               inner=\"quartile\", color=default_color);\n",
    "plt.title('Distribution of Price Across the Difficulty Levels for Paid Courses')\n",
    "plt.xlabel('Difficulty Level')\n",
    "plt.ylabel('Price');\n",
    "\n",
    "# The median Price for the courses increase from Beginner to Expert Level.\n",
    "# For the 'All Levels', the median price is almost the same as the Intermediate\n",
    "# Level."
   ]
  },
  {
   "cell_type": "markdown",
   "metadata": {},
   "source": [
    "#### Compare Difficulty Level and Duration for Paid Courses"
   ]
  },
  {
   "cell_type": "code",
   "execution_count": 88,
   "metadata": {
    "colab": {
     "base_uri": "https://localhost:8080/",
     "height": 621
    },
    "colab_type": "code",
    "id": "qOhX7SiKevBb",
    "outputId": "d49beb8e-4a2b-4a48-f79b-9bf7c707a7f4"
   },
   "outputs": [
    {
     "data": {
      "image/png": "[encoded data removed]",
      "text/plain": [
       "<Figure size 1080x720 with 1 Axes>"
      ]
     },
     "metadata": {
      "needs_background": "light"
     },
     "output_type": "display_data"
    }
   ],
   "source": [
    "plt.figure(figsize=(15,10))\n",
    "sns.violinplot(data=paid_courses, x='level', y='content_duration',\n",
    "              inner=\"quartile\", color=default_color);\n",
    "plt.title('Distribution of Course Duration Across the Difficulty Levels')\n",
    "plt.xlabel('Difficulty Level')\n",
    "plt.ylabel('Course Duration');\n",
    "\n",
    "# The median Course Duration across the Difficulty Levels almost the same.\n",
    "# We observe that the number of courses reduce from Beginner to Expert Level."
   ]
  },
  {
   "cell_type": "markdown",
   "metadata": {},
   "source": [
    "#### Create Year and Month Columns to Evaluate Prices and Subscriptions Across Year and Months"
   ]
  },
  {
   "cell_type": "code",
   "execution_count": 89,
   "metadata": {
    "colab": {
     "base_uri": "https://localhost:8080/",
     "height": 204
    },
    "colab_type": "code",
    "id": "mCqf5JY_jJt9",
    "outputId": "b6754d7e-1c9e-4019-ad41-fefdec66cad3"
   },
   "outputs": [
    {
     "data": {
      "text/html": [
       "<div>\n",
       "<style scoped>\n",
       "    .dataframe tbody tr th:only-of-type {\n",
       "        vertical-align: middle;\n",
       "    }\n",
       "\n",
       "    .dataframe tbody tr th {\n",
       "        vertical-align: top;\n",
       "    }\n",
       "\n",
       "    .dataframe thead th {\n",
       "        text-align: right;\n",
       "    }\n",
       "</style>\n",
       "<table border=\"1\" class=\"dataframe\">\n",
       "  <thead>\n",
       "    <tr style=\"text-align: right;\">\n",
       "      <th></th>\n",
       "      <th>course_id</th>\n",
       "      <th>course_title</th>\n",
       "      <th>url</th>\n",
       "      <th>is_paid</th>\n",
       "      <th>price</th>\n",
       "      <th>num_subscribers</th>\n",
       "      <th>num_reviews</th>\n",
       "      <th>num_lectures</th>\n",
       "      <th>level</th>\n",
       "      <th>content_duration</th>\n",
       "      <th>published_timestamp</th>\n",
       "      <th>subject</th>\n",
       "      <th>year</th>\n",
       "      <th>month</th>\n",
       "    </tr>\n",
       "  </thead>\n",
       "  <tbody>\n",
       "    <tr>\n",
       "      <th>0</th>\n",
       "      <td>1070968</td>\n",
       "      <td>Ultimate Investment Banking Course</td>\n",
       "      <td>https://www.udemy.com/ultimate-investment-bank...</td>\n",
       "      <td>True</td>\n",
       "      <td>200</td>\n",
       "      <td>2147</td>\n",
       "      <td>23</td>\n",
       "      <td>51</td>\n",
       "      <td>All Levels</td>\n",
       "      <td>1.5</td>\n",
       "      <td>2017-01-18 20:58:58</td>\n",
       "      <td>Business Finance</td>\n",
       "      <td>2017</td>\n",
       "      <td>January</td>\n",
       "    </tr>\n",
       "    <tr>\n",
       "      <th>1</th>\n",
       "      <td>1113822</td>\n",
       "      <td>Complete GST Course &amp; Certification - Grow You...</td>\n",
       "      <td>https://www.udemy.com/goods-and-services-tax/</td>\n",
       "      <td>True</td>\n",
       "      <td>75</td>\n",
       "      <td>2792</td>\n",
       "      <td>923</td>\n",
       "      <td>274</td>\n",
       "      <td>All Levels</td>\n",
       "      <td>39.0</td>\n",
       "      <td>2017-03-09 16:34:20</td>\n",
       "      <td>Business Finance</td>\n",
       "      <td>2017</td>\n",
       "      <td>March</td>\n",
       "    </tr>\n",
       "    <tr>\n",
       "      <th>2</th>\n",
       "      <td>1006314</td>\n",
       "      <td>Financial Modeling for Business Analysts and C...</td>\n",
       "      <td>https://www.udemy.com/financial-modeling-for-b...</td>\n",
       "      <td>True</td>\n",
       "      <td>45</td>\n",
       "      <td>2174</td>\n",
       "      <td>74</td>\n",
       "      <td>51</td>\n",
       "      <td>Intermediate Level</td>\n",
       "      <td>2.5</td>\n",
       "      <td>2016-12-19 19:26:30</td>\n",
       "      <td>Business Finance</td>\n",
       "      <td>2016</td>\n",
       "      <td>December</td>\n",
       "    </tr>\n",
       "    <tr>\n",
       "      <th>3</th>\n",
       "      <td>1210588</td>\n",
       "      <td>Beginner to Pro - Financial Analysis in Excel ...</td>\n",
       "      <td>https://www.udemy.com/complete-excel-finance-c...</td>\n",
       "      <td>True</td>\n",
       "      <td>95</td>\n",
       "      <td>2451</td>\n",
       "      <td>11</td>\n",
       "      <td>36</td>\n",
       "      <td>All Levels</td>\n",
       "      <td>3.0</td>\n",
       "      <td>2017-05-30 20:07:24</td>\n",
       "      <td>Business Finance</td>\n",
       "      <td>2017</td>\n",
       "      <td>May</td>\n",
       "    </tr>\n",
       "    <tr>\n",
       "      <th>4</th>\n",
       "      <td>1011058</td>\n",
       "      <td>How To Maximize Your Profits Trading Options</td>\n",
       "      <td>https://www.udemy.com/how-to-maximize-your-pro...</td>\n",
       "      <td>True</td>\n",
       "      <td>200</td>\n",
       "      <td>1276</td>\n",
       "      <td>45</td>\n",
       "      <td>26</td>\n",
       "      <td>Intermediate Level</td>\n",
       "      <td>2.0</td>\n",
       "      <td>2016-12-13 14:57:18</td>\n",
       "      <td>Business Finance</td>\n",
       "      <td>2016</td>\n",
       "      <td>December</td>\n",
       "    </tr>\n",
       "  </tbody>\n",
       "</table>\n",
       "</div>"
      ],
      "text/plain": [
       "   course_id                                       course_title  \\\n",
       "0    1070968                 Ultimate Investment Banking Course   \n",
       "1    1113822  Complete GST Course & Certification - Grow You...   \n",
       "2    1006314  Financial Modeling for Business Analysts and C...   \n",
       "3    1210588  Beginner to Pro - Financial Analysis in Excel ...   \n",
       "4    1011058       How To Maximize Your Profits Trading Options   \n",
       "\n",
       "                                                 url  is_paid  price  \\\n",
       "0  https://www.udemy.com/ultimate-investment-bank...     True    200   \n",
       "1      https://www.udemy.com/goods-and-services-tax/     True     75   \n",
       "2  https://www.udemy.com/financial-modeling-for-b...     True     45   \n",
       "3  https://www.udemy.com/complete-excel-finance-c...     True     95   \n",
       "4  https://www.udemy.com/how-to-maximize-your-pro...     True    200   \n",
       "\n",
       "   num_subscribers  num_reviews  num_lectures               level  \\\n",
       "0             2147           23            51          All Levels   \n",
       "1             2792          923           274          All Levels   \n",
       "2             2174           74            51  Intermediate Level   \n",
       "3             2451           11            36          All Levels   \n",
       "4             1276           45            26  Intermediate Level   \n",
       "\n",
       "   content_duration published_timestamp           subject  year     month  \n",
       "0               1.5 2017-01-18 20:58:58  Business Finance  2017   January  \n",
       "1              39.0 2017-03-09 16:34:20  Business Finance  2017     March  \n",
       "2               2.5 2016-12-19 19:26:30  Business Finance  2016  December  \n",
       "3               3.0 2017-05-30 20:07:24  Business Finance  2017       May  \n",
       "4               2.0 2016-12-13 14:57:18  Business Finance  2016  December  "
      ]
     },
     "execution_count": 89,
     "metadata": {},
     "output_type": "execute_result"
    }
   ],
   "source": [
    "df_clean['year'] = df_clean.published_timestamp.dt.year\n",
    "df_clean['month'] = df_clean.published_timestamp.dt.month_name()\n",
    "\n",
    "# preview data after adding additional columns\n",
    "df_clean.head()"
   ]
  },
  {
   "cell_type": "markdown",
   "metadata": {},
   "source": [
    "#### View summary information about dataframe"
   ]
  },
  {
   "cell_type": "code",
   "execution_count": 90,
   "metadata": {
    "colab": {
     "base_uri": "https://localhost:8080/",
     "height": 374
    },
    "colab_type": "code",
    "id": "DuH8nqNclMEO",
    "outputId": "d3750657-a6d3-4f7e-d1ff-baa056a15070"
   },
   "outputs": [
    {
     "name": "stdout",
     "output_type": "stream",
     "text": [
      "<class 'pandas.core.frame.DataFrame'>\n",
      "Int64Index: 3672 entries, 0 to 3677\n",
      "Data columns (total 14 columns):\n",
      "course_id              3672 non-null int64\n",
      "course_title           3672 non-null object\n",
      "url                    3672 non-null object\n",
      "is_paid                3672 non-null bool\n",
      "price                  3672 non-null int64\n",
      "num_subscribers        3672 non-null int64\n",
      "num_reviews            3672 non-null int64\n",
      "num_lectures           3672 non-null int64\n",
      "level                  3672 non-null category\n",
      "content_duration       3672 non-null float64\n",
      "published_timestamp    3672 non-null datetime64[ns]\n",
      "subject                3672 non-null category\n",
      "year                   3672 non-null int64\n",
      "month                  3672 non-null object\n",
      "dtypes: bool(1), category(2), datetime64[ns](1), float64(1), int64(6), object(3)\n",
      "memory usage: 515.4+ KB\n"
     ]
    }
   ],
   "source": [
    "df_clean.info()"
   ]
  },
  {
   "cell_type": "markdown",
   "metadata": {},
   "source": [
    "#### Plot of the number of courses per Year Published"
   ]
  },
  {
   "cell_type": "code",
   "execution_count": 91,
   "metadata": {
    "colab": {
     "base_uri": "https://localhost:8080/",
     "height": 621
    },
    "colab_type": "code",
    "id": "G7Buf-MYuj3K",
    "outputId": "4414457b-16d7-4afc-cea4-63a2804db355"
   },
   "outputs": [
    {
     "data": {
      "image/png": "[encoded data removed]",
      "text/plain": [
       "<Figure size 1080x720 with 1 Axes>"
      ]
     },
     "metadata": {
      "needs_background": "light"
     },
     "output_type": "display_data"
    }
   ],
   "source": [
    "plt.figure(figsize=(15,10))\n",
    "sns.countplot(data=df_clean, x='year', color=default_color);\n",
    "plt.title('Number of Courses Per Year Published')\n",
    "plt.xlabel('Year Published')\n",
    "plt.ylabel('Number of Courses');"
   ]
  },
  {
   "cell_type": "markdown",
   "metadata": {},
   "source": [
    "#### Plot of the number of courses Per Month Published"
   ]
  },
  {
   "cell_type": "code",
   "execution_count": 92,
   "metadata": {
    "colab": {
     "base_uri": "https://localhost:8080/",
     "height": 621
    },
    "colab_type": "code",
    "id": "8M8R1FtGtWJk",
    "outputId": "b5ad5051-974d-4a2f-9306-2ef58b1fe0f4"
   },
   "outputs": [
    {
     "data": {
      "image/png": "[encoded data removed]",
      "text/plain": [
       "<Figure size 1080x720 with 1 Axes>"
      ]
     },
     "metadata": {
      "needs_background": "light"
     },
     "output_type": "display_data"
    }
   ],
   "source": [
    "plt.figure(figsize=(15,10))\n",
    "sns.countplot(data=df_clean, x='month', color=default_color);\n",
    "plt.title('Number of Courses Per Month Published')\n",
    "plt.xlabel('Month Published')\n",
    "plt.ylabel('Number of Courses');"
   ]
  },
  {
   "cell_type": "markdown",
   "metadata": {},
   "source": [
    "#### Course with the highest Number of subscribers"
   ]
  },
  {
   "cell_type": "code",
   "execution_count": 93,
   "metadata": {
    "colab": {
     "base_uri": "https://localhost:8080/",
     "height": 80
    },
    "colab_type": "code",
    "id": "GrPrvNjOzuYJ",
    "outputId": "d29c6c3a-edcc-4503-cedc-80f60841e11f"
   },
   "outputs": [
    {
     "data": {
      "text/html": [
       "<div>\n",
       "<style scoped>\n",
       "    .dataframe tbody tr th:only-of-type {\n",
       "        vertical-align: middle;\n",
       "    }\n",
       "\n",
       "    .dataframe tbody tr th {\n",
       "        vertical-align: top;\n",
       "    }\n",
       "\n",
       "    .dataframe thead th {\n",
       "        text-align: right;\n",
       "    }\n",
       "</style>\n",
       "<table border=\"1\" class=\"dataframe\">\n",
       "  <thead>\n",
       "    <tr style=\"text-align: right;\">\n",
       "      <th></th>\n",
       "      <th>course_id</th>\n",
       "      <th>course_title</th>\n",
       "      <th>url</th>\n",
       "      <th>is_paid</th>\n",
       "      <th>price</th>\n",
       "      <th>num_subscribers</th>\n",
       "      <th>num_reviews</th>\n",
       "      <th>num_lectures</th>\n",
       "      <th>level</th>\n",
       "      <th>content_duration</th>\n",
       "      <th>published_timestamp</th>\n",
       "      <th>subject</th>\n",
       "      <th>year</th>\n",
       "      <th>month</th>\n",
       "    </tr>\n",
       "  </thead>\n",
       "  <tbody>\n",
       "    <tr>\n",
       "      <th>2827</th>\n",
       "      <td>41295</td>\n",
       "      <td>Learn HTML5 Programming From Scratch</td>\n",
       "      <td>https://www.udemy.com/learn-html5-programming-...</td>\n",
       "      <td>False</td>\n",
       "      <td>0</td>\n",
       "      <td>268923</td>\n",
       "      <td>8629</td>\n",
       "      <td>45</td>\n",
       "      <td>All Levels</td>\n",
       "      <td>10.5</td>\n",
       "      <td>2013-02-14 07:03:41</td>\n",
       "      <td>Web Development</td>\n",
       "      <td>2013</td>\n",
       "      <td>February</td>\n",
       "    </tr>\n",
       "  </tbody>\n",
       "</table>\n",
       "</div>"
      ],
      "text/plain": [
       "      course_id                          course_title  \\\n",
       "2827      41295  Learn HTML5 Programming From Scratch   \n",
       "\n",
       "                                                    url  is_paid  price  \\\n",
       "2827  https://www.udemy.com/learn-html5-programming-...    False      0   \n",
       "\n",
       "      num_subscribers  num_reviews  num_lectures       level  \\\n",
       "2827           268923         8629            45  All Levels   \n",
       "\n",
       "      content_duration published_timestamp          subject  year     month  \n",
       "2827              10.5 2013-02-14 07:03:41  Web Development  2013  February  "
      ]
     },
     "execution_count": 93,
     "metadata": {},
     "output_type": "execute_result"
    }
   ],
   "source": [
    "df_clean[df_clean.num_subscribers == df_clean.num_subscribers.max()]"
   ]
  },
  {
   "cell_type": "markdown",
   "metadata": {},
   "source": [
    "#### Course(s) with the Least Number of subscribers"
   ]
  },
  {
   "cell_type": "code",
   "execution_count": 94,
   "metadata": {
    "colab": {
     "base_uri": "https://localhost:8080/",
     "height": 419
    },
    "colab_type": "code",
    "id": "WnXLBKxY8byJ",
    "outputId": "c2d4c3de-6679-4b50-bb0c-cad6fdee5468"
   },
   "outputs": [
    {
     "data": {
      "text/html": [
       "<div>\n",
       "<style scoped>\n",
       "    .dataframe tbody tr th:only-of-type {\n",
       "        vertical-align: middle;\n",
       "    }\n",
       "\n",
       "    .dataframe tbody tr th {\n",
       "        vertical-align: top;\n",
       "    }\n",
       "\n",
       "    .dataframe thead th {\n",
       "        text-align: right;\n",
       "    }\n",
       "</style>\n",
       "<table border=\"1\" class=\"dataframe\">\n",
       "  <thead>\n",
       "    <tr style=\"text-align: right;\">\n",
       "      <th></th>\n",
       "      <th>course_id</th>\n",
       "      <th>course_title</th>\n",
       "      <th>url</th>\n",
       "      <th>is_paid</th>\n",
       "      <th>price</th>\n",
       "      <th>num_subscribers</th>\n",
       "      <th>num_reviews</th>\n",
       "      <th>num_lectures</th>\n",
       "      <th>level</th>\n",
       "      <th>content_duration</th>\n",
       "      <th>published_timestamp</th>\n",
       "      <th>subject</th>\n",
       "      <th>year</th>\n",
       "      <th>month</th>\n",
       "    </tr>\n",
       "  </thead>\n",
       "  <tbody>\n",
       "    <tr>\n",
       "      <th>453</th>\n",
       "      <td>837322</td>\n",
       "      <td>Essentials of money value: Get a financial Life !</td>\n",
       "      <td>https://www.udemy.com/essentials-of-money-value/</td>\n",
       "      <td>True</td>\n",
       "      <td>20</td>\n",
       "      <td>0</td>\n",
       "      <td>0</td>\n",
       "      <td>20</td>\n",
       "      <td>All Levels</td>\n",
       "      <td>0.616667</td>\n",
       "      <td>2016-05-16 18:28:30</td>\n",
       "      <td>Business Finance</td>\n",
       "      <td>2016</td>\n",
       "      <td>May</td>\n",
       "    </tr>\n",
       "    <tr>\n",
       "      <th>454</th>\n",
       "      <td>1157298</td>\n",
       "      <td>Introduction to Forex Trading Business For Beg...</td>\n",
       "      <td>https://www.udemy.com/introduction-to-forex-tr...</td>\n",
       "      <td>True</td>\n",
       "      <td>20</td>\n",
       "      <td>0</td>\n",
       "      <td>0</td>\n",
       "      <td>27</td>\n",
       "      <td>Beginner Level</td>\n",
       "      <td>1.500000</td>\n",
       "      <td>2017-04-23 16:19:01</td>\n",
       "      <td>Business Finance</td>\n",
       "      <td>2017</td>\n",
       "      <td>April</td>\n",
       "    </tr>\n",
       "    <tr>\n",
       "      <th>455</th>\n",
       "      <td>1282064</td>\n",
       "      <td>Cryptocurrency (BTC &amp; ETH) Investment &amp; Tradin...</td>\n",
       "      <td>https://www.udemy.com/cryptocurrency-btc-eth-i...</td>\n",
       "      <td>True</td>\n",
       "      <td>20</td>\n",
       "      <td>0</td>\n",
       "      <td>0</td>\n",
       "      <td>7</td>\n",
       "      <td>Beginner Level</td>\n",
       "      <td>2.500000</td>\n",
       "      <td>2017-07-06 21:46:30</td>\n",
       "      <td>Business Finance</td>\n",
       "      <td>2017</td>\n",
       "      <td>July</td>\n",
       "    </tr>\n",
       "    <tr>\n",
       "      <th>456</th>\n",
       "      <td>1247992</td>\n",
       "      <td>Introduction to Project Management for Finance...</td>\n",
       "      <td>https://www.udemy.com/introduction-to-project-...</td>\n",
       "      <td>True</td>\n",
       "      <td>50</td>\n",
       "      <td>0</td>\n",
       "      <td>0</td>\n",
       "      <td>9</td>\n",
       "      <td>Beginner Level</td>\n",
       "      <td>2.000000</td>\n",
       "      <td>2017-07-03 21:40:32</td>\n",
       "      <td>Business Finance</td>\n",
       "      <td>2017</td>\n",
       "      <td>July</td>\n",
       "    </tr>\n",
       "    <tr>\n",
       "      <th>457</th>\n",
       "      <td>1251582</td>\n",
       "      <td>Best Practices in Corporate Budgeting</td>\n",
       "      <td>https://www.udemy.com/best-practices-corporate...</td>\n",
       "      <td>True</td>\n",
       "      <td>50</td>\n",
       "      <td>0</td>\n",
       "      <td>0</td>\n",
       "      <td>9</td>\n",
       "      <td>Intermediate Level</td>\n",
       "      <td>2.000000</td>\n",
       "      <td>2017-06-29 22:01:56</td>\n",
       "      <td>Business Finance</td>\n",
       "      <td>2017</td>\n",
       "      <td>June</td>\n",
       "    </tr>\n",
       "    <tr>\n",
       "      <th>458</th>\n",
       "      <td>1258666</td>\n",
       "      <td>Financial Statement Auditing Cycles</td>\n",
       "      <td>https://www.udemy.com/financial-statement-audi...</td>\n",
       "      <td>True</td>\n",
       "      <td>50</td>\n",
       "      <td>0</td>\n",
       "      <td>0</td>\n",
       "      <td>9</td>\n",
       "      <td>Intermediate Level</td>\n",
       "      <td>2.000000</td>\n",
       "      <td>2017-06-29 23:20:10</td>\n",
       "      <td>Business Finance</td>\n",
       "      <td>2017</td>\n",
       "      <td>June</td>\n",
       "    </tr>\n",
       "    <tr>\n",
       "      <th>459</th>\n",
       "      <td>1168172</td>\n",
       "      <td>Case studies on credit appraisal for bankers</td>\n",
       "      <td>https://www.udemy.com/case-studies-on-credit-a...</td>\n",
       "      <td>True</td>\n",
       "      <td>20</td>\n",
       "      <td>0</td>\n",
       "      <td>0</td>\n",
       "      <td>15</td>\n",
       "      <td>Beginner Level</td>\n",
       "      <td>3.500000</td>\n",
       "      <td>2017-05-01 20:16:26</td>\n",
       "      <td>Business Finance</td>\n",
       "      <td>2017</td>\n",
       "      <td>May</td>\n",
       "    </tr>\n",
       "    <tr>\n",
       "      <th>460</th>\n",
       "      <td>1233314</td>\n",
       "      <td>Building a Balanced Scorecard</td>\n",
       "      <td>https://www.udemy.com/building-balanced-scorec...</td>\n",
       "      <td>True</td>\n",
       "      <td>50</td>\n",
       "      <td>0</td>\n",
       "      <td>0</td>\n",
       "      <td>11</td>\n",
       "      <td>Intermediate Level</td>\n",
       "      <td>2.000000</td>\n",
       "      <td>2017-07-03 21:38:22</td>\n",
       "      <td>Business Finance</td>\n",
       "      <td>2017</td>\n",
       "      <td>July</td>\n",
       "    </tr>\n",
       "    <tr>\n",
       "      <th>461</th>\n",
       "      <td>1276182</td>\n",
       "      <td>Options Trading Foundation: Your journey to co...</td>\n",
       "      <td>https://www.udemy.com/option-trading-foundatio...</td>\n",
       "      <td>True</td>\n",
       "      <td>95</td>\n",
       "      <td>0</td>\n",
       "      <td>0</td>\n",
       "      <td>5</td>\n",
       "      <td>Intermediate Level</td>\n",
       "      <td>1.000000</td>\n",
       "      <td>2017-07-05 04:41:54</td>\n",
       "      <td>Business Finance</td>\n",
       "      <td>2017</td>\n",
       "      <td>July</td>\n",
       "    </tr>\n",
       "    <tr>\n",
       "      <th>462</th>\n",
       "      <td>1187084</td>\n",
       "      <td>Forex how traders beat the markest with little...</td>\n",
       "      <td>https://www.udemy.com/forex-how-traders-beat-t...</td>\n",
       "      <td>True</td>\n",
       "      <td>100</td>\n",
       "      <td>0</td>\n",
       "      <td>0</td>\n",
       "      <td>16</td>\n",
       "      <td>All Levels</td>\n",
       "      <td>1.000000</td>\n",
       "      <td>2017-07-06 21:16:13</td>\n",
       "      <td>Business Finance</td>\n",
       "      <td>2017</td>\n",
       "      <td>July</td>\n",
       "    </tr>\n",
       "    <tr>\n",
       "      <th>463</th>\n",
       "      <td>1084454</td>\n",
       "      <td>CFA Level 2- Quantitative Methods</td>\n",
       "      <td>https://www.udemy.com/cfa-level-2-quantitative...</td>\n",
       "      <td>True</td>\n",
       "      <td>40</td>\n",
       "      <td>0</td>\n",
       "      <td>0</td>\n",
       "      <td>35</td>\n",
       "      <td>All Levels</td>\n",
       "      <td>5.500000</td>\n",
       "      <td>2017-07-02 14:29:35</td>\n",
       "      <td>Business Finance</td>\n",
       "      <td>2017</td>\n",
       "      <td>July</td>\n",
       "    </tr>\n",
       "    <tr>\n",
       "      <th>464</th>\n",
       "      <td>885413</td>\n",
       "      <td>Foundations of Investing</td>\n",
       "      <td>https://www.udemy.com/foundations-of-investing/</td>\n",
       "      <td>True</td>\n",
       "      <td>40</td>\n",
       "      <td>0</td>\n",
       "      <td>0</td>\n",
       "      <td>18</td>\n",
       "      <td>Beginner Level</td>\n",
       "      <td>2.000000</td>\n",
       "      <td>2016-07-27 21:07:46</td>\n",
       "      <td>Business Finance</td>\n",
       "      <td>2016</td>\n",
       "      <td>July</td>\n",
       "    </tr>\n",
       "    <tr>\n",
       "      <th>524</th>\n",
       "      <td>1064904</td>\n",
       "      <td>Evolution and Features of ETFs</td>\n",
       "      <td>https://www.udemy.com/evolution-and-features-o...</td>\n",
       "      <td>True</td>\n",
       "      <td>100</td>\n",
       "      <td>0</td>\n",
       "      <td>0</td>\n",
       "      <td>10</td>\n",
       "      <td>All Levels</td>\n",
       "      <td>0.716667</td>\n",
       "      <td>2017-04-03 22:17:10</td>\n",
       "      <td>Business Finance</td>\n",
       "      <td>2017</td>\n",
       "      <td>April</td>\n",
       "    </tr>\n",
       "    <tr>\n",
       "      <th>777</th>\n",
       "      <td>1215926</td>\n",
       "      <td>Kickstarter success in 5 easy steps</td>\n",
       "      <td>https://www.udemy.com/kickstarter-success-in-5...</td>\n",
       "      <td>True</td>\n",
       "      <td>20</td>\n",
       "      <td>0</td>\n",
       "      <td>0</td>\n",
       "      <td>12</td>\n",
       "      <td>All Levels</td>\n",
       "      <td>0.516667</td>\n",
       "      <td>2017-05-16 14:55:28</td>\n",
       "      <td>Business Finance</td>\n",
       "      <td>2017</td>\n",
       "      <td>May</td>\n",
       "    </tr>\n",
       "    <tr>\n",
       "      <th>778</th>\n",
       "      <td>1035638</td>\n",
       "      <td>Understanding Financial Statements</td>\n",
       "      <td>https://www.udemy.com/understanding-financial-...</td>\n",
       "      <td>True</td>\n",
       "      <td>25</td>\n",
       "      <td>0</td>\n",
       "      <td>0</td>\n",
       "      <td>10</td>\n",
       "      <td>All Levels</td>\n",
       "      <td>1.000000</td>\n",
       "      <td>2016-12-15 14:56:17</td>\n",
       "      <td>Business Finance</td>\n",
       "      <td>2016</td>\n",
       "      <td>December</td>\n",
       "    </tr>\n",
       "    <tr>\n",
       "      <th>779</th>\n",
       "      <td>1249146</td>\n",
       "      <td>Planning and Executing a Financial Statement A...</td>\n",
       "      <td>https://www.udemy.com/planning-executing-finan...</td>\n",
       "      <td>True</td>\n",
       "      <td>50</td>\n",
       "      <td>0</td>\n",
       "      <td>0</td>\n",
       "      <td>9</td>\n",
       "      <td>Intermediate Level</td>\n",
       "      <td>2.000000</td>\n",
       "      <td>2017-06-29 23:18:51</td>\n",
       "      <td>Business Finance</td>\n",
       "      <td>2017</td>\n",
       "      <td>June</td>\n",
       "    </tr>\n",
       "    <tr>\n",
       "      <th>781</th>\n",
       "      <td>975910</td>\n",
       "      <td>How to achieve personal transformation</td>\n",
       "      <td>https://www.udemy.com/learnhowtocreatewealth/</td>\n",
       "      <td>True</td>\n",
       "      <td>20</td>\n",
       "      <td>0</td>\n",
       "      <td>0</td>\n",
       "      <td>10</td>\n",
       "      <td>All Levels</td>\n",
       "      <td>0.533333</td>\n",
       "      <td>2016-12-22 00:28:07</td>\n",
       "      <td>Business Finance</td>\n",
       "      <td>2016</td>\n",
       "      <td>December</td>\n",
       "    </tr>\n",
       "    <tr>\n",
       "      <th>782</th>\n",
       "      <td>1221942</td>\n",
       "      <td>Basic Bookkeeping</td>\n",
       "      <td>https://www.udemy.com/basic-bookkeeping-course/</td>\n",
       "      <td>True</td>\n",
       "      <td>35</td>\n",
       "      <td>0</td>\n",
       "      <td>0</td>\n",
       "      <td>12</td>\n",
       "      <td>Beginner Level</td>\n",
       "      <td>0.733333</td>\n",
       "      <td>2017-05-23 16:20:18</td>\n",
       "      <td>Business Finance</td>\n",
       "      <td>2017</td>\n",
       "      <td>May</td>\n",
       "    </tr>\n",
       "    <tr>\n",
       "      <th>783</th>\n",
       "      <td>1169196</td>\n",
       "      <td>Credit concepts and checklist for bankers, cre...</td>\n",
       "      <td>https://www.udemy.com/credit-concepts-and-chec...</td>\n",
       "      <td>True</td>\n",
       "      <td>20</td>\n",
       "      <td>0</td>\n",
       "      <td>0</td>\n",
       "      <td>10</td>\n",
       "      <td>Beginner Level</td>\n",
       "      <td>2.500000</td>\n",
       "      <td>2017-04-24 14:56:01</td>\n",
       "      <td>Business Finance</td>\n",
       "      <td>2017</td>\n",
       "      <td>April</td>\n",
       "    </tr>\n",
       "    <tr>\n",
       "      <th>784</th>\n",
       "      <td>1271182</td>\n",
       "      <td>Practical Film Financing: Finding &amp; Pitching I...</td>\n",
       "      <td>https://www.udemy.com/indiefilm-financing/</td>\n",
       "      <td>True</td>\n",
       "      <td>100</td>\n",
       "      <td>0</td>\n",
       "      <td>0</td>\n",
       "      <td>9</td>\n",
       "      <td>Beginner Level</td>\n",
       "      <td>1.000000</td>\n",
       "      <td>2017-07-05 21:46:55</td>\n",
       "      <td>Business Finance</td>\n",
       "      <td>2017</td>\n",
       "      <td>July</td>\n",
       "    </tr>\n",
       "    <tr>\n",
       "      <th>785</th>\n",
       "      <td>1233302</td>\n",
       "      <td>Ratio Analysis for Financial Statements</td>\n",
       "      <td>https://www.udemy.com/ratio-analysis-financial...</td>\n",
       "      <td>True</td>\n",
       "      <td>50</td>\n",
       "      <td>0</td>\n",
       "      <td>0</td>\n",
       "      <td>6</td>\n",
       "      <td>Beginner Level</td>\n",
       "      <td>2.000000</td>\n",
       "      <td>2017-07-03 21:39:57</td>\n",
       "      <td>Business Finance</td>\n",
       "      <td>2017</td>\n",
       "      <td>July</td>\n",
       "    </tr>\n",
       "    <tr>\n",
       "      <th>786</th>\n",
       "      <td>1231958</td>\n",
       "      <td>60 Minutes to Fundamental Accounting Skills</td>\n",
       "      <td>https://www.udemy.com/60-minute-fundamental-ac...</td>\n",
       "      <td>True</td>\n",
       "      <td>75</td>\n",
       "      <td>0</td>\n",
       "      <td>0</td>\n",
       "      <td>9</td>\n",
       "      <td>Beginner Level</td>\n",
       "      <td>2.500000</td>\n",
       "      <td>2017-06-28 21:55:29</td>\n",
       "      <td>Business Finance</td>\n",
       "      <td>2017</td>\n",
       "      <td>June</td>\n",
       "    </tr>\n",
       "    <tr>\n",
       "      <th>884</th>\n",
       "      <td>1057040</td>\n",
       "      <td>Teeter-Totter Accounting</td>\n",
       "      <td>https://www.udemy.com/teeter-totter-accounting/</td>\n",
       "      <td>True</td>\n",
       "      <td>90</td>\n",
       "      <td>0</td>\n",
       "      <td>0</td>\n",
       "      <td>12</td>\n",
       "      <td>Beginner Level</td>\n",
       "      <td>1.000000</td>\n",
       "      <td>2017-02-08 22:15:56</td>\n",
       "      <td>Business Finance</td>\n",
       "      <td>2017</td>\n",
       "      <td>February</td>\n",
       "    </tr>\n",
       "    <tr>\n",
       "      <th>885</th>\n",
       "      <td>1032648</td>\n",
       "      <td>beginning accounting</td>\n",
       "      <td>https://www.udemy.com/beginning_accounting/</td>\n",
       "      <td>True</td>\n",
       "      <td>20</td>\n",
       "      <td>0</td>\n",
       "      <td>0</td>\n",
       "      <td>12</td>\n",
       "      <td>Intermediate Level</td>\n",
       "      <td>0.633333</td>\n",
       "      <td>2016-12-26 16:52:47</td>\n",
       "      <td>Business Finance</td>\n",
       "      <td>2016</td>\n",
       "      <td>December</td>\n",
       "    </tr>\n",
       "    <tr>\n",
       "      <th>886</th>\n",
       "      <td>1087466</td>\n",
       "      <td>Stop Creditors from Harassing you and Avoid Ba...</td>\n",
       "      <td>https://www.udemy.com/stop-creditor-harassment...</td>\n",
       "      <td>True</td>\n",
       "      <td>20</td>\n",
       "      <td>0</td>\n",
       "      <td>0</td>\n",
       "      <td>7</td>\n",
       "      <td>Beginner Level</td>\n",
       "      <td>0.616667</td>\n",
       "      <td>2017-02-02 16:22:37</td>\n",
       "      <td>Business Finance</td>\n",
       "      <td>2017</td>\n",
       "      <td>February</td>\n",
       "    </tr>\n",
       "    <tr>\n",
       "      <th>887</th>\n",
       "      <td>1058852</td>\n",
       "      <td>Learn to trade using technical analysis</td>\n",
       "      <td>https://www.udemy.com/learn-to-trade-using-tec...</td>\n",
       "      <td>True</td>\n",
       "      <td>50</td>\n",
       "      <td>0</td>\n",
       "      <td>0</td>\n",
       "      <td>6</td>\n",
       "      <td>Intermediate Level</td>\n",
       "      <td>0.533333</td>\n",
       "      <td>2017-05-02 13:15:53</td>\n",
       "      <td>Business Finance</td>\n",
       "      <td>2017</td>\n",
       "      <td>May</td>\n",
       "    </tr>\n",
       "    <tr>\n",
       "      <th>888</th>\n",
       "      <td>1083744</td>\n",
       "      <td>How to Invest Using ETFs from Former Wall Stre...</td>\n",
       "      <td>https://www.udemy.com/etf-master-class/</td>\n",
       "      <td>True</td>\n",
       "      <td>200</td>\n",
       "      <td>0</td>\n",
       "      <td>0</td>\n",
       "      <td>10</td>\n",
       "      <td>All Levels</td>\n",
       "      <td>2.000000</td>\n",
       "      <td>2017-02-15 22:34:00</td>\n",
       "      <td>Business Finance</td>\n",
       "      <td>2017</td>\n",
       "      <td>February</td>\n",
       "    </tr>\n",
       "    <tr>\n",
       "      <th>889</th>\n",
       "      <td>1271430</td>\n",
       "      <td>Workshop on Banking Credit Analysis Process</td>\n",
       "      <td>https://www.udemy.com/workshop-on-banking-cred...</td>\n",
       "      <td>True</td>\n",
       "      <td>100</td>\n",
       "      <td>0</td>\n",
       "      <td>0</td>\n",
       "      <td>7</td>\n",
       "      <td>All Levels</td>\n",
       "      <td>1.500000</td>\n",
       "      <td>2017-06-28 23:22:27</td>\n",
       "      <td>Business Finance</td>\n",
       "      <td>2017</td>\n",
       "      <td>June</td>\n",
       "    </tr>\n",
       "    <tr>\n",
       "      <th>890</th>\n",
       "      <td>715476</td>\n",
       "      <td>The Cuckoo Strategy to get European Funding</td>\n",
       "      <td>https://www.udemy.com/the-cuckoo-strategy-to-g...</td>\n",
       "      <td>True</td>\n",
       "      <td>160</td>\n",
       "      <td>0</td>\n",
       "      <td>0</td>\n",
       "      <td>6</td>\n",
       "      <td>All Levels</td>\n",
       "      <td>1.000000</td>\n",
       "      <td>2016-01-06 02:38:23</td>\n",
       "      <td>Business Finance</td>\n",
       "      <td>2016</td>\n",
       "      <td>January</td>\n",
       "    </tr>\n",
       "    <tr>\n",
       "      <th>891</th>\n",
       "      <td>1219820</td>\n",
       "      <td>Accounting - The 6 most important rules you mu...</td>\n",
       "      <td>https://www.udemy.com/accounting-the-6-most-im...</td>\n",
       "      <td>True</td>\n",
       "      <td>20</td>\n",
       "      <td>0</td>\n",
       "      <td>0</td>\n",
       "      <td>9</td>\n",
       "      <td>All Levels</td>\n",
       "      <td>1.000000</td>\n",
       "      <td>2017-05-25 21:55:50</td>\n",
       "      <td>Business Finance</td>\n",
       "      <td>2017</td>\n",
       "      <td>May</td>\n",
       "    </tr>\n",
       "    <tr>\n",
       "      <th>...</th>\n",
       "      <td>...</td>\n",
       "      <td>...</td>\n",
       "      <td>...</td>\n",
       "      <td>...</td>\n",
       "      <td>...</td>\n",
       "      <td>...</td>\n",
       "      <td>...</td>\n",
       "      <td>...</td>\n",
       "      <td>...</td>\n",
       "      <td>...</td>\n",
       "      <td>...</td>\n",
       "      <td>...</td>\n",
       "      <td>...</td>\n",
       "      <td>...</td>\n",
       "    </tr>\n",
       "    <tr>\n",
       "      <th>1102</th>\n",
       "      <td>1251654</td>\n",
       "      <td>Understand Core Finance Principles in 60 Minutes</td>\n",
       "      <td>https://www.udemy.com/core-finance-principles-...</td>\n",
       "      <td>True</td>\n",
       "      <td>75</td>\n",
       "      <td>0</td>\n",
       "      <td>0</td>\n",
       "      <td>13</td>\n",
       "      <td>Beginner Level</td>\n",
       "      <td>2.500000</td>\n",
       "      <td>2017-06-29 22:04:17</td>\n",
       "      <td>Business Finance</td>\n",
       "      <td>2017</td>\n",
       "      <td>June</td>\n",
       "    </tr>\n",
       "    <tr>\n",
       "      <th>1234</th>\n",
       "      <td>185526</td>\n",
       "      <td>MicroStation - Células</td>\n",
       "      <td>https://www.udemy.com/microstation-celulas/</td>\n",
       "      <td>True</td>\n",
       "      <td>20</td>\n",
       "      <td>0</td>\n",
       "      <td>0</td>\n",
       "      <td>9</td>\n",
       "      <td>Beginner Level</td>\n",
       "      <td>0.616667</td>\n",
       "      <td>2014-04-15 21:48:55</td>\n",
       "      <td>Graphic Design</td>\n",
       "      <td>2014</td>\n",
       "      <td>April</td>\n",
       "    </tr>\n",
       "    <tr>\n",
       "      <th>1235</th>\n",
       "      <td>1185898</td>\n",
       "      <td>Photoshop - Creación de Efectos 2</td>\n",
       "      <td>https://www.udemy.com/photoshop-creacion-de-ef...</td>\n",
       "      <td>True</td>\n",
       "      <td>30</td>\n",
       "      <td>0</td>\n",
       "      <td>0</td>\n",
       "      <td>9</td>\n",
       "      <td>Beginner Level</td>\n",
       "      <td>1.000000</td>\n",
       "      <td>2017-05-17 19:19:18</td>\n",
       "      <td>Graphic Design</td>\n",
       "      <td>2017</td>\n",
       "      <td>May</td>\n",
       "    </tr>\n",
       "    <tr>\n",
       "      <th>1236</th>\n",
       "      <td>1177156</td>\n",
       "      <td>Como Criar Logos de Sucesso - Start Designer</td>\n",
       "      <td>https://www.udemy.com/como-criar-logos-de-suce...</td>\n",
       "      <td>True</td>\n",
       "      <td>25</td>\n",
       "      <td>0</td>\n",
       "      <td>0</td>\n",
       "      <td>29</td>\n",
       "      <td>Beginner Level</td>\n",
       "      <td>6.000000</td>\n",
       "      <td>2017-06-30 05:48:57</td>\n",
       "      <td>Graphic Design</td>\n",
       "      <td>2017</td>\n",
       "      <td>June</td>\n",
       "    </tr>\n",
       "    <tr>\n",
       "      <th>1237</th>\n",
       "      <td>177614</td>\n",
       "      <td>Super Textos con Photoshop</td>\n",
       "      <td>https://www.udemy.com/super-textos-con-photoshop/</td>\n",
       "      <td>True</td>\n",
       "      <td>20</td>\n",
       "      <td>0</td>\n",
       "      <td>0</td>\n",
       "      <td>8</td>\n",
       "      <td>Beginner Level</td>\n",
       "      <td>2.000000</td>\n",
       "      <td>2014-03-31 20:31:04</td>\n",
       "      <td>Graphic Design</td>\n",
       "      <td>2014</td>\n",
       "      <td>March</td>\n",
       "    </tr>\n",
       "    <tr>\n",
       "      <th>1238</th>\n",
       "      <td>1128984</td>\n",
       "      <td>Photoshop - Aprende a Transformar Imágenes</td>\n",
       "      <td>https://www.udemy.com/photoshop-aprende-a-tran...</td>\n",
       "      <td>True</td>\n",
       "      <td>20</td>\n",
       "      <td>0</td>\n",
       "      <td>0</td>\n",
       "      <td>14</td>\n",
       "      <td>Beginner Level</td>\n",
       "      <td>1.000000</td>\n",
       "      <td>2017-03-08 18:05:51</td>\n",
       "      <td>Graphic Design</td>\n",
       "      <td>2017</td>\n",
       "      <td>March</td>\n",
       "    </tr>\n",
       "    <tr>\n",
       "      <th>1239</th>\n",
       "      <td>185528</td>\n",
       "      <td>Iníciate en Microstation</td>\n",
       "      <td>https://www.udemy.com/iniciate-en-microstation/</td>\n",
       "      <td>True</td>\n",
       "      <td>20</td>\n",
       "      <td>0</td>\n",
       "      <td>0</td>\n",
       "      <td>10</td>\n",
       "      <td>Beginner Level</td>\n",
       "      <td>1.000000</td>\n",
       "      <td>2014-04-15 21:52:12</td>\n",
       "      <td>Graphic Design</td>\n",
       "      <td>2014</td>\n",
       "      <td>April</td>\n",
       "    </tr>\n",
       "    <tr>\n",
       "      <th>1240</th>\n",
       "      <td>872262</td>\n",
       "      <td>Adobe Photoshop pentru Social Media</td>\n",
       "      <td>https://www.udemy.com/adobe-photoshop-pentru-s...</td>\n",
       "      <td>True</td>\n",
       "      <td>20</td>\n",
       "      <td>0</td>\n",
       "      <td>0</td>\n",
       "      <td>12</td>\n",
       "      <td>Beginner Level</td>\n",
       "      <td>0.566667</td>\n",
       "      <td>2016-06-08 16:02:39</td>\n",
       "      <td>Graphic Design</td>\n",
       "      <td>2016</td>\n",
       "      <td>June</td>\n",
       "    </tr>\n",
       "    <tr>\n",
       "      <th>1241</th>\n",
       "      <td>1137738</td>\n",
       "      <td>Photoshop - Creación de Efectos</td>\n",
       "      <td>https://www.udemy.com/photoshop-creacion-de-ef...</td>\n",
       "      <td>True</td>\n",
       "      <td>20</td>\n",
       "      <td>0</td>\n",
       "      <td>0</td>\n",
       "      <td>11</td>\n",
       "      <td>Beginner Level</td>\n",
       "      <td>1.000000</td>\n",
       "      <td>2017-03-24 20:06:57</td>\n",
       "      <td>Graphic Design</td>\n",
       "      <td>2017</td>\n",
       "      <td>March</td>\n",
       "    </tr>\n",
       "    <tr>\n",
       "      <th>1471</th>\n",
       "      <td>188584</td>\n",
       "      <td>Letras en Adobe Illustrator</td>\n",
       "      <td>https://www.udemy.com/letras-en-adobe-illustra...</td>\n",
       "      <td>True</td>\n",
       "      <td>40</td>\n",
       "      <td>0</td>\n",
       "      <td>0</td>\n",
       "      <td>13</td>\n",
       "      <td>Beginner Level</td>\n",
       "      <td>2.500000</td>\n",
       "      <td>2014-04-04 21:23:23</td>\n",
       "      <td>Graphic Design</td>\n",
       "      <td>2014</td>\n",
       "      <td>April</td>\n",
       "    </tr>\n",
       "    <tr>\n",
       "      <th>1472</th>\n",
       "      <td>181268</td>\n",
       "      <td>Photoshop: Creando elemental de aire</td>\n",
       "      <td>https://www.udemy.com/photoshop-creando-elemen...</td>\n",
       "      <td>True</td>\n",
       "      <td>20</td>\n",
       "      <td>0</td>\n",
       "      <td>0</td>\n",
       "      <td>5</td>\n",
       "      <td>Beginner Level</td>\n",
       "      <td>1.000000</td>\n",
       "      <td>2014-04-01 21:50:32</td>\n",
       "      <td>Graphic Design</td>\n",
       "      <td>2014</td>\n",
       "      <td>April</td>\n",
       "    </tr>\n",
       "    <tr>\n",
       "      <th>1569</th>\n",
       "      <td>726314</td>\n",
       "      <td>Create Beautiful Image Maps for Your Website</td>\n",
       "      <td>https://www.udemy.com/how-to-create-hotspot-im...</td>\n",
       "      <td>True</td>\n",
       "      <td>20</td>\n",
       "      <td>0</td>\n",
       "      <td>0</td>\n",
       "      <td>8</td>\n",
       "      <td>Intermediate Level</td>\n",
       "      <td>0.616667</td>\n",
       "      <td>2016-01-18 17:56:36</td>\n",
       "      <td>Graphic Design</td>\n",
       "      <td>2016</td>\n",
       "      <td>January</td>\n",
       "    </tr>\n",
       "    <tr>\n",
       "      <th>1618</th>\n",
       "      <td>1047408</td>\n",
       "      <td>Easy Coloring Book Design</td>\n",
       "      <td>https://www.udemy.com/easy-coloring-book-design/</td>\n",
       "      <td>True</td>\n",
       "      <td>25</td>\n",
       "      <td>0</td>\n",
       "      <td>0</td>\n",
       "      <td>9</td>\n",
       "      <td>Beginner Level</td>\n",
       "      <td>0.583333</td>\n",
       "      <td>2016-12-22 00:46:38</td>\n",
       "      <td>Graphic Design</td>\n",
       "      <td>2016</td>\n",
       "      <td>December</td>\n",
       "    </tr>\n",
       "    <tr>\n",
       "      <th>1619</th>\n",
       "      <td>987865</td>\n",
       "      <td>Make Patterns in Illustrator</td>\n",
       "      <td>https://www.udemy.com/make-patterns-in-illustr...</td>\n",
       "      <td>True</td>\n",
       "      <td>20</td>\n",
       "      <td>0</td>\n",
       "      <td>0</td>\n",
       "      <td>32</td>\n",
       "      <td>Beginner Level</td>\n",
       "      <td>3.500000</td>\n",
       "      <td>2017-05-25 15:31:11</td>\n",
       "      <td>Graphic Design</td>\n",
       "      <td>2017</td>\n",
       "      <td>May</td>\n",
       "    </tr>\n",
       "    <tr>\n",
       "      <th>1620</th>\n",
       "      <td>371900</td>\n",
       "      <td>Learn to create Text fire effect in Adobe Phot...</td>\n",
       "      <td>https://www.udemy.com/learn-to-create-text-fir...</td>\n",
       "      <td>True</td>\n",
       "      <td>20</td>\n",
       "      <td>0</td>\n",
       "      <td>0</td>\n",
       "      <td>8</td>\n",
       "      <td>All Levels</td>\n",
       "      <td>0.600000</td>\n",
       "      <td>2014-12-19 23:19:47</td>\n",
       "      <td>Graphic Design</td>\n",
       "      <td>2014</td>\n",
       "      <td>December</td>\n",
       "    </tr>\n",
       "    <tr>\n",
       "      <th>1621</th>\n",
       "      <td>995384</td>\n",
       "      <td>Professional Business Logo Design Using Free O...</td>\n",
       "      <td>https://www.udemy.com/professional-business-lo...</td>\n",
       "      <td>True</td>\n",
       "      <td>20</td>\n",
       "      <td>0</td>\n",
       "      <td>0</td>\n",
       "      <td>5</td>\n",
       "      <td>All Levels</td>\n",
       "      <td>0.616667</td>\n",
       "      <td>2016-10-31 16:09:48</td>\n",
       "      <td>Graphic Design</td>\n",
       "      <td>2016</td>\n",
       "      <td>October</td>\n",
       "    </tr>\n",
       "    <tr>\n",
       "      <th>1622</th>\n",
       "      <td>1252410</td>\n",
       "      <td>Beginners Guide to Kindle Ebook Covers Design ...</td>\n",
       "      <td>https://www.udemy.com/beginners-guide-to-kindl...</td>\n",
       "      <td>True</td>\n",
       "      <td>20</td>\n",
       "      <td>0</td>\n",
       "      <td>0</td>\n",
       "      <td>16</td>\n",
       "      <td>All Levels</td>\n",
       "      <td>1.500000</td>\n",
       "      <td>2017-06-19 19:26:46</td>\n",
       "      <td>Graphic Design</td>\n",
       "      <td>2017</td>\n",
       "      <td>June</td>\n",
       "    </tr>\n",
       "    <tr>\n",
       "      <th>1624</th>\n",
       "      <td>1275872</td>\n",
       "      <td>The Complete Adobe Spark Course</td>\n",
       "      <td>https://www.udemy.com/the-complete-adobe-spark...</td>\n",
       "      <td>True</td>\n",
       "      <td>150</td>\n",
       "      <td>0</td>\n",
       "      <td>0</td>\n",
       "      <td>29</td>\n",
       "      <td>All Levels</td>\n",
       "      <td>2.000000</td>\n",
       "      <td>2017-07-03 17:39:57</td>\n",
       "      <td>Graphic Design</td>\n",
       "      <td>2017</td>\n",
       "      <td>July</td>\n",
       "    </tr>\n",
       "    <tr>\n",
       "      <th>1625</th>\n",
       "      <td>1133764</td>\n",
       "      <td>The Art of Logo Design : Everything You Need t...</td>\n",
       "      <td>https://www.udemy.com/the-art-of-logo-design/</td>\n",
       "      <td>True</td>\n",
       "      <td>20</td>\n",
       "      <td>0</td>\n",
       "      <td>0</td>\n",
       "      <td>18</td>\n",
       "      <td>All Levels</td>\n",
       "      <td>1.000000</td>\n",
       "      <td>2017-03-09 16:11:36</td>\n",
       "      <td>Graphic Design</td>\n",
       "      <td>2017</td>\n",
       "      <td>March</td>\n",
       "    </tr>\n",
       "    <tr>\n",
       "      <th>1977</th>\n",
       "      <td>603902</td>\n",
       "      <td>Curso de Didgeridoo nivel principiante</td>\n",
       "      <td>https://www.udemy.com/curso-de-didgeridoo-nive...</td>\n",
       "      <td>True</td>\n",
       "      <td>50</td>\n",
       "      <td>0</td>\n",
       "      <td>0</td>\n",
       "      <td>31</td>\n",
       "      <td>Beginner Level</td>\n",
       "      <td>1.000000</td>\n",
       "      <td>2016-04-11 04:14:05</td>\n",
       "      <td>Musical Instruments</td>\n",
       "      <td>2016</td>\n",
       "      <td>April</td>\n",
       "    </tr>\n",
       "    <tr>\n",
       "      <th>2397</th>\n",
       "      <td>993892</td>\n",
       "      <td>Beginners Guitar Course - 'Try it and love it ...</td>\n",
       "      <td>https://www.udemy.com/beginners-guitar-course-...</td>\n",
       "      <td>True</td>\n",
       "      <td>25</td>\n",
       "      <td>0</td>\n",
       "      <td>0</td>\n",
       "      <td>16</td>\n",
       "      <td>Beginner Level</td>\n",
       "      <td>2.000000</td>\n",
       "      <td>2016-10-31 18:10:06</td>\n",
       "      <td>Musical Instruments</td>\n",
       "      <td>2016</td>\n",
       "      <td>October</td>\n",
       "    </tr>\n",
       "    <tr>\n",
       "      <th>2398</th>\n",
       "      <td>1026760</td>\n",
       "      <td>Coaching Course: Rhythm Instruction for Music ...</td>\n",
       "      <td>https://www.udemy.com/coaching-bundle-rhythm-i...</td>\n",
       "      <td>True</td>\n",
       "      <td>130</td>\n",
       "      <td>0</td>\n",
       "      <td>0</td>\n",
       "      <td>6</td>\n",
       "      <td>All Levels</td>\n",
       "      <td>0.533333</td>\n",
       "      <td>2017-03-10 16:55:04</td>\n",
       "      <td>Musical Instruments</td>\n",
       "      <td>2017</td>\n",
       "      <td>March</td>\n",
       "    </tr>\n",
       "    <tr>\n",
       "      <th>2399</th>\n",
       "      <td>1223240</td>\n",
       "      <td>Learn Pirates of the Caribbean by Ear on the P...</td>\n",
       "      <td>https://www.udemy.com/learn-pirates-of-the-car...</td>\n",
       "      <td>True</td>\n",
       "      <td>20</td>\n",
       "      <td>0</td>\n",
       "      <td>0</td>\n",
       "      <td>6</td>\n",
       "      <td>All Levels</td>\n",
       "      <td>0.533333</td>\n",
       "      <td>2017-05-22 17:14:43</td>\n",
       "      <td>Musical Instruments</td>\n",
       "      <td>2017</td>\n",
       "      <td>May</td>\n",
       "    </tr>\n",
       "    <tr>\n",
       "      <th>2400</th>\n",
       "      <td>1026762</td>\n",
       "      <td>Coaching Course: Rhythm Instruction for Music ...</td>\n",
       "      <td>https://www.udemy.com/coaching-bundle-rhythm-i...</td>\n",
       "      <td>True</td>\n",
       "      <td>125</td>\n",
       "      <td>0</td>\n",
       "      <td>0</td>\n",
       "      <td>7</td>\n",
       "      <td>All Levels</td>\n",
       "      <td>0.633333</td>\n",
       "      <td>2017-03-10 17:06:46</td>\n",
       "      <td>Musical Instruments</td>\n",
       "      <td>2017</td>\n",
       "      <td>March</td>\n",
       "    </tr>\n",
       "    <tr>\n",
       "      <th>2401</th>\n",
       "      <td>1234656</td>\n",
       "      <td>4 Week Rhythm Mastery</td>\n",
       "      <td>https://www.udemy.com/4-week-rhythm-mastery/</td>\n",
       "      <td>True</td>\n",
       "      <td>20</td>\n",
       "      <td>0</td>\n",
       "      <td>0</td>\n",
       "      <td>28</td>\n",
       "      <td>Beginner Level</td>\n",
       "      <td>2.500000</td>\n",
       "      <td>2017-07-05 16:07:44</td>\n",
       "      <td>Musical Instruments</td>\n",
       "      <td>2017</td>\n",
       "      <td>July</td>\n",
       "    </tr>\n",
       "    <tr>\n",
       "      <th>2402</th>\n",
       "      <td>1214670</td>\n",
       "      <td>Tune that Sour Note on Your Piano</td>\n",
       "      <td>https://www.udemy.com/how-to-tune-your-own-piano/</td>\n",
       "      <td>True</td>\n",
       "      <td>20</td>\n",
       "      <td>0</td>\n",
       "      <td>0</td>\n",
       "      <td>6</td>\n",
       "      <td>All Levels</td>\n",
       "      <td>0.550000</td>\n",
       "      <td>2017-06-20 21:46:40</td>\n",
       "      <td>Musical Instruments</td>\n",
       "      <td>2017</td>\n",
       "      <td>June</td>\n",
       "    </tr>\n",
       "    <tr>\n",
       "      <th>2403</th>\n",
       "      <td>1272282</td>\n",
       "      <td>Learn Vikings Soundtracks on the Piano by Ear</td>\n",
       "      <td>https://www.udemy.com/learn-vikings-soundtrack...</td>\n",
       "      <td>True</td>\n",
       "      <td>20</td>\n",
       "      <td>0</td>\n",
       "      <td>0</td>\n",
       "      <td>8</td>\n",
       "      <td>All Levels</td>\n",
       "      <td>0.583333</td>\n",
       "      <td>2017-06-29 15:10:58</td>\n",
       "      <td>Musical Instruments</td>\n",
       "      <td>2017</td>\n",
       "      <td>June</td>\n",
       "    </tr>\n",
       "    <tr>\n",
       "      <th>2404</th>\n",
       "      <td>1224186</td>\n",
       "      <td>Learn to Play Piano Like a Pro - Easy Piano Co...</td>\n",
       "      <td>https://www.udemy.com/learn-to-play-piano-like...</td>\n",
       "      <td>True</td>\n",
       "      <td>35</td>\n",
       "      <td>0</td>\n",
       "      <td>0</td>\n",
       "      <td>13</td>\n",
       "      <td>Beginner Level</td>\n",
       "      <td>0.516667</td>\n",
       "      <td>2017-05-30 00:19:02</td>\n",
       "      <td>Musical Instruments</td>\n",
       "      <td>2017</td>\n",
       "      <td>May</td>\n",
       "    </tr>\n",
       "    <tr>\n",
       "      <th>2405</th>\n",
       "      <td>1265814</td>\n",
       "      <td>ABRSM Grade III Piano Class - Handel Sonatina ...</td>\n",
       "      <td>https://www.udemy.com/abrsm-grade-iii-piano-cl...</td>\n",
       "      <td>True</td>\n",
       "      <td>20</td>\n",
       "      <td>0</td>\n",
       "      <td>0</td>\n",
       "      <td>5</td>\n",
       "      <td>Beginner Level</td>\n",
       "      <td>0.516667</td>\n",
       "      <td>2017-07-06 16:12:34</td>\n",
       "      <td>Musical Instruments</td>\n",
       "      <td>2017</td>\n",
       "      <td>July</td>\n",
       "    </tr>\n",
       "    <tr>\n",
       "      <th>2418</th>\n",
       "      <td>1216340</td>\n",
       "      <td>Learn to Play Sweet Child of Mine</td>\n",
       "      <td>https://www.udemy.com/learn-to-play-sweet-chil...</td>\n",
       "      <td>True</td>\n",
       "      <td>20</td>\n",
       "      <td>0</td>\n",
       "      <td>0</td>\n",
       "      <td>23</td>\n",
       "      <td>Intermediate Level</td>\n",
       "      <td>1.500000</td>\n",
       "      <td>2017-06-30 17:33:29</td>\n",
       "      <td>Musical Instruments</td>\n",
       "      <td>2017</td>\n",
       "      <td>June</td>\n",
       "    </tr>\n",
       "  </tbody>\n",
       "</table>\n",
       "<p>65 rows × 14 columns</p>\n",
       "</div>"
      ],
      "text/plain": [
       "      course_id                                       course_title  \\\n",
       "453      837322  Essentials of money value: Get a financial Life !   \n",
       "454     1157298  Introduction to Forex Trading Business For Beg...   \n",
       "455     1282064  Cryptocurrency (BTC & ETH) Investment & Tradin...   \n",
       "456     1247992  Introduction to Project Management for Finance...   \n",
       "457     1251582              Best Practices in Corporate Budgeting   \n",
       "458     1258666                Financial Statement Auditing Cycles   \n",
       "459     1168172       Case studies on credit appraisal for bankers   \n",
       "460     1233314                      Building a Balanced Scorecard   \n",
       "461     1276182  Options Trading Foundation: Your journey to co...   \n",
       "462     1187084  Forex how traders beat the markest with little...   \n",
       "463     1084454                  CFA Level 2- Quantitative Methods   \n",
       "464      885413                           Foundations of Investing   \n",
       "524     1064904                     Evolution and Features of ETFs   \n",
       "777     1215926                Kickstarter success in 5 easy steps   \n",
       "778     1035638                 Understanding Financial Statements   \n",
       "779     1249146  Planning and Executing a Financial Statement A...   \n",
       "781      975910             How to achieve personal transformation   \n",
       "782     1221942                                  Basic Bookkeeping   \n",
       "783     1169196  Credit concepts and checklist for bankers, cre...   \n",
       "784     1271182  Practical Film Financing: Finding & Pitching I...   \n",
       "785     1233302            Ratio Analysis for Financial Statements   \n",
       "786     1231958        60 Minutes to Fundamental Accounting Skills   \n",
       "884     1057040                           Teeter-Totter Accounting   \n",
       "885     1032648                               beginning accounting   \n",
       "886     1087466  Stop Creditors from Harassing you and Avoid Ba...   \n",
       "887     1058852            Learn to trade using technical analysis   \n",
       "888     1083744  How to Invest Using ETFs from Former Wall Stre...   \n",
       "889     1271430        Workshop on Banking Credit Analysis Process   \n",
       "890      715476        The Cuckoo Strategy to get European Funding   \n",
       "891     1219820  Accounting - The 6 most important rules you mu...   \n",
       "...         ...                                                ...   \n",
       "1102    1251654   Understand Core Finance Principles in 60 Minutes   \n",
       "1234     185526                             MicroStation - Células   \n",
       "1235    1185898                  Photoshop - Creación de Efectos 2   \n",
       "1236    1177156       Como Criar Logos de Sucesso - Start Designer   \n",
       "1237     177614                         Super Textos con Photoshop   \n",
       "1238    1128984         Photoshop - Aprende a Transformar Imágenes   \n",
       "1239     185528                           Iníciate en Microstation   \n",
       "1240     872262                Adobe Photoshop pentru Social Media   \n",
       "1241    1137738                    Photoshop - Creación de Efectos   \n",
       "1471     188584                        Letras en Adobe Illustrator   \n",
       "1472     181268               Photoshop: Creando elemental de aire   \n",
       "1569     726314       Create Beautiful Image Maps for Your Website   \n",
       "1618    1047408                          Easy Coloring Book Design   \n",
       "1619     987865                       Make Patterns in Illustrator   \n",
       "1620     371900  Learn to create Text fire effect in Adobe Phot...   \n",
       "1621     995384  Professional Business Logo Design Using Free O...   \n",
       "1622    1252410  Beginners Guide to Kindle Ebook Covers Design ...   \n",
       "1624    1275872                    The Complete Adobe Spark Course   \n",
       "1625    1133764  The Art of Logo Design : Everything You Need t...   \n",
       "1977     603902             Curso de Didgeridoo nivel principiante   \n",
       "2397     993892  Beginners Guitar Course - 'Try it and love it ...   \n",
       "2398    1026760  Coaching Course: Rhythm Instruction for Music ...   \n",
       "2399    1223240  Learn Pirates of the Caribbean by Ear on the P...   \n",
       "2400    1026762  Coaching Course: Rhythm Instruction for Music ...   \n",
       "2401    1234656                              4 Week Rhythm Mastery   \n",
       "2402    1214670                  Tune that Sour Note on Your Piano   \n",
       "2403    1272282      Learn Vikings Soundtracks on the Piano by Ear   \n",
       "2404    1224186  Learn to Play Piano Like a Pro - Easy Piano Co...   \n",
       "2405    1265814  ABRSM Grade III Piano Class - Handel Sonatina ...   \n",
       "2418    1216340                  Learn to Play Sweet Child of Mine   \n",
       "\n",
       "                                                    url  is_paid  price  \\\n",
       "453    https://www.udemy.com/essentials-of-money-value/     True     20   \n",
       "454   https://www.udemy.com/introduction-to-forex-tr...     True     20   \n",
       "455   https://www.udemy.com/cryptocurrency-btc-eth-i...     True     20   \n",
       "456   https://www.udemy.com/introduction-to-project-...     True     50   \n",
       "457   https://www.udemy.com/best-practices-corporate...     True     50   \n",
       "458   https://www.udemy.com/financial-statement-audi...     True     50   \n",
       "459   https://www.udemy.com/case-studies-on-credit-a...     True     20   \n",
       "460   https://www.udemy.com/building-balanced-scorec...     True     50   \n",
       "461   https://www.udemy.com/option-trading-foundatio...     True     95   \n",
       "462   https://www.udemy.com/forex-how-traders-beat-t...     True    100   \n",
       "463   https://www.udemy.com/cfa-level-2-quantitative...     True     40   \n",
       "464     https://www.udemy.com/foundations-of-investing/     True     40   \n",
       "524   https://www.udemy.com/evolution-and-features-o...     True    100   \n",
       "777   https://www.udemy.com/kickstarter-success-in-5...     True     20   \n",
       "778   https://www.udemy.com/understanding-financial-...     True     25   \n",
       "779   https://www.udemy.com/planning-executing-finan...     True     50   \n",
       "781       https://www.udemy.com/learnhowtocreatewealth/     True     20   \n",
       "782     https://www.udemy.com/basic-bookkeeping-course/     True     35   \n",
       "783   https://www.udemy.com/credit-concepts-and-chec...     True     20   \n",
       "784          https://www.udemy.com/indiefilm-financing/     True    100   \n",
       "785   https://www.udemy.com/ratio-analysis-financial...     True     50   \n",
       "786   https://www.udemy.com/60-minute-fundamental-ac...     True     75   \n",
       "884     https://www.udemy.com/teeter-totter-accounting/     True     90   \n",
       "885         https://www.udemy.com/beginning_accounting/     True     20   \n",
       "886   https://www.udemy.com/stop-creditor-harassment...     True     20   \n",
       "887   https://www.udemy.com/learn-to-trade-using-tec...     True     50   \n",
       "888             https://www.udemy.com/etf-master-class/     True    200   \n",
       "889   https://www.udemy.com/workshop-on-banking-cred...     True    100   \n",
       "890   https://www.udemy.com/the-cuckoo-strategy-to-g...     True    160   \n",
       "891   https://www.udemy.com/accounting-the-6-most-im...     True     20   \n",
       "...                                                 ...      ...    ...   \n",
       "1102  https://www.udemy.com/core-finance-principles-...     True     75   \n",
       "1234        https://www.udemy.com/microstation-celulas/     True     20   \n",
       "1235  https://www.udemy.com/photoshop-creacion-de-ef...     True     30   \n",
       "1236  https://www.udemy.com/como-criar-logos-de-suce...     True     25   \n",
       "1237  https://www.udemy.com/super-textos-con-photoshop/     True     20   \n",
       "1238  https://www.udemy.com/photoshop-aprende-a-tran...     True     20   \n",
       "1239    https://www.udemy.com/iniciate-en-microstation/     True     20   \n",
       "1240  https://www.udemy.com/adobe-photoshop-pentru-s...     True     20   \n",
       "1241  https://www.udemy.com/photoshop-creacion-de-ef...     True     20   \n",
       "1471  https://www.udemy.com/letras-en-adobe-illustra...     True     40   \n",
       "1472  https://www.udemy.com/photoshop-creando-elemen...     True     20   \n",
       "1569  https://www.udemy.com/how-to-create-hotspot-im...     True     20   \n",
       "1618   https://www.udemy.com/easy-coloring-book-design/     True     25   \n",
       "1619  https://www.udemy.com/make-patterns-in-illustr...     True     20   \n",
       "1620  https://www.udemy.com/learn-to-create-text-fir...     True     20   \n",
       "1621  https://www.udemy.com/professional-business-lo...     True     20   \n",
       "1622  https://www.udemy.com/beginners-guide-to-kindl...     True     20   \n",
       "1624  https://www.udemy.com/the-complete-adobe-spark...     True    150   \n",
       "1625      https://www.udemy.com/the-art-of-logo-design/     True     20   \n",
       "1977  https://www.udemy.com/curso-de-didgeridoo-nive...     True     50   \n",
       "2397  https://www.udemy.com/beginners-guitar-course-...     True     25   \n",
       "2398  https://www.udemy.com/coaching-bundle-rhythm-i...     True    130   \n",
       "2399  https://www.udemy.com/learn-pirates-of-the-car...     True     20   \n",
       "2400  https://www.udemy.com/coaching-bundle-rhythm-i...     True    125   \n",
       "2401       https://www.udemy.com/4-week-rhythm-mastery/     True     20   \n",
       "2402  https://www.udemy.com/how-to-tune-your-own-piano/     True     20   \n",
       "2403  https://www.udemy.com/learn-vikings-soundtrack...     True     20   \n",
       "2404  https://www.udemy.com/learn-to-play-piano-like...     True     35   \n",
       "2405  https://www.udemy.com/abrsm-grade-iii-piano-cl...     True     20   \n",
       "2418  https://www.udemy.com/learn-to-play-sweet-chil...     True     20   \n",
       "\n",
       "      num_subscribers  num_reviews  num_lectures               level  \\\n",
       "453                 0            0            20          All Levels   \n",
       "454                 0            0            27      Beginner Level   \n",
       "455                 0            0             7      Beginner Level   \n",
       "456                 0            0             9      Beginner Level   \n",
       "457                 0            0             9  Intermediate Level   \n",
       "458                 0            0             9  Intermediate Level   \n",
       "459                 0            0            15      Beginner Level   \n",
       "460                 0            0            11  Intermediate Level   \n",
       "461                 0            0             5  Intermediate Level   \n",
       "462                 0            0            16          All Levels   \n",
       "463                 0            0            35          All Levels   \n",
       "464                 0            0            18      Beginner Level   \n",
       "524                 0            0            10          All Levels   \n",
       "777                 0            0            12          All Levels   \n",
       "778                 0            0            10          All Levels   \n",
       "779                 0            0             9  Intermediate Level   \n",
       "781                 0            0            10          All Levels   \n",
       "782                 0            0            12      Beginner Level   \n",
       "783                 0            0            10      Beginner Level   \n",
       "784                 0            0             9      Beginner Level   \n",
       "785                 0            0             6      Beginner Level   \n",
       "786                 0            0             9      Beginner Level   \n",
       "884                 0            0            12      Beginner Level   \n",
       "885                 0            0            12  Intermediate Level   \n",
       "886                 0            0             7      Beginner Level   \n",
       "887                 0            0             6  Intermediate Level   \n",
       "888                 0            0            10          All Levels   \n",
       "889                 0            0             7          All Levels   \n",
       "890                 0            0             6          All Levels   \n",
       "891                 0            0             9          All Levels   \n",
       "...               ...          ...           ...                 ...   \n",
       "1102                0            0            13      Beginner Level   \n",
       "1234                0            0             9      Beginner Level   \n",
       "1235                0            0             9      Beginner Level   \n",
       "1236                0            0            29      Beginner Level   \n",
       "1237                0            0             8      Beginner Level   \n",
       "1238                0            0            14      Beginner Level   \n",
       "1239                0            0            10      Beginner Level   \n",
       "1240                0            0            12      Beginner Level   \n",
       "1241                0            0            11      Beginner Level   \n",
       "1471                0            0            13      Beginner Level   \n",
       "1472                0            0             5      Beginner Level   \n",
       "1569                0            0             8  Intermediate Level   \n",
       "1618                0            0             9      Beginner Level   \n",
       "1619                0            0            32      Beginner Level   \n",
       "1620                0            0             8          All Levels   \n",
       "1621                0            0             5          All Levels   \n",
       "1622                0            0            16          All Levels   \n",
       "1624                0            0            29          All Levels   \n",
       "1625                0            0            18          All Levels   \n",
       "1977                0            0            31      Beginner Level   \n",
       "2397                0            0            16      Beginner Level   \n",
       "2398                0            0             6          All Levels   \n",
       "2399                0            0             6          All Levels   \n",
       "2400                0            0             7          All Levels   \n",
       "2401                0            0            28      Beginner Level   \n",
       "2402                0            0             6          All Levels   \n",
       "2403                0            0             8          All Levels   \n",
       "2404                0            0            13      Beginner Level   \n",
       "2405                0            0             5      Beginner Level   \n",
       "2418                0            0            23  Intermediate Level   \n",
       "\n",
       "      content_duration published_timestamp              subject  year  \\\n",
       "453           0.616667 2016-05-16 18:28:30     Business Finance  2016   \n",
       "454           1.500000 2017-04-23 16:19:01     Business Finance  2017   \n",
       "455           2.500000 2017-07-06 21:46:30     Business Finance  2017   \n",
       "456           2.000000 2017-07-03 21:40:32     Business Finance  2017   \n",
       "457           2.000000 2017-06-29 22:01:56     Business Finance  2017   \n",
       "458           2.000000 2017-06-29 23:20:10     Business Finance  2017   \n",
       "459           3.500000 2017-05-01 20:16:26     Business Finance  2017   \n",
       "460           2.000000 2017-07-03 21:38:22     Business Finance  2017   \n",
       "461           1.000000 2017-07-05 04:41:54     Business Finance  2017   \n",
       "462           1.000000 2017-07-06 21:16:13     Business Finance  2017   \n",
       "463           5.500000 2017-07-02 14:29:35     Business Finance  2017   \n",
       "464           2.000000 2016-07-27 21:07:46     Business Finance  2016   \n",
       "524           0.716667 2017-04-03 22:17:10     Business Finance  2017   \n",
       "777           0.516667 2017-05-16 14:55:28     Business Finance  2017   \n",
       "778           1.000000 2016-12-15 14:56:17     Business Finance  2016   \n",
       "779           2.000000 2017-06-29 23:18:51     Business Finance  2017   \n",
       "781           0.533333 2016-12-22 00:28:07     Business Finance  2016   \n",
       "782           0.733333 2017-05-23 16:20:18     Business Finance  2017   \n",
       "783           2.500000 2017-04-24 14:56:01     Business Finance  2017   \n",
       "784           1.000000 2017-07-05 21:46:55     Business Finance  2017   \n",
       "785           2.000000 2017-07-03 21:39:57     Business Finance  2017   \n",
       "786           2.500000 2017-06-28 21:55:29     Business Finance  2017   \n",
       "884           1.000000 2017-02-08 22:15:56     Business Finance  2017   \n",
       "885           0.633333 2016-12-26 16:52:47     Business Finance  2016   \n",
       "886           0.616667 2017-02-02 16:22:37     Business Finance  2017   \n",
       "887           0.533333 2017-05-02 13:15:53     Business Finance  2017   \n",
       "888           2.000000 2017-02-15 22:34:00     Business Finance  2017   \n",
       "889           1.500000 2017-06-28 23:22:27     Business Finance  2017   \n",
       "890           1.000000 2016-01-06 02:38:23     Business Finance  2016   \n",
       "891           1.000000 2017-05-25 21:55:50     Business Finance  2017   \n",
       "...                ...                 ...                  ...   ...   \n",
       "1102          2.500000 2017-06-29 22:04:17     Business Finance  2017   \n",
       "1234          0.616667 2014-04-15 21:48:55       Graphic Design  2014   \n",
       "1235          1.000000 2017-05-17 19:19:18       Graphic Design  2017   \n",
       "1236          6.000000 2017-06-30 05:48:57       Graphic Design  2017   \n",
       "1237          2.000000 2014-03-31 20:31:04       Graphic Design  2014   \n",
       "1238          1.000000 2017-03-08 18:05:51       Graphic Design  2017   \n",
       "1239          1.000000 2014-04-15 21:52:12       Graphic Design  2014   \n",
       "1240          0.566667 2016-06-08 16:02:39       Graphic Design  2016   \n",
       "1241          1.000000 2017-03-24 20:06:57       Graphic Design  2017   \n",
       "1471          2.500000 2014-04-04 21:23:23       Graphic Design  2014   \n",
       "1472          1.000000 2014-04-01 21:50:32       Graphic Design  2014   \n",
       "1569          0.616667 2016-01-18 17:56:36       Graphic Design  2016   \n",
       "1618          0.583333 2016-12-22 00:46:38       Graphic Design  2016   \n",
       "1619          3.500000 2017-05-25 15:31:11       Graphic Design  2017   \n",
       "1620          0.600000 2014-12-19 23:19:47       Graphic Design  2014   \n",
       "1621          0.616667 2016-10-31 16:09:48       Graphic Design  2016   \n",
       "1622          1.500000 2017-06-19 19:26:46       Graphic Design  2017   \n",
       "1624          2.000000 2017-07-03 17:39:57       Graphic Design  2017   \n",
       "1625          1.000000 2017-03-09 16:11:36       Graphic Design  2017   \n",
       "1977          1.000000 2016-04-11 04:14:05  Musical Instruments  2016   \n",
       "2397          2.000000 2016-10-31 18:10:06  Musical Instruments  2016   \n",
       "2398          0.533333 2017-03-10 16:55:04  Musical Instruments  2017   \n",
       "2399          0.533333 2017-05-22 17:14:43  Musical Instruments  2017   \n",
       "2400          0.633333 2017-03-10 17:06:46  Musical Instruments  2017   \n",
       "2401          2.500000 2017-07-05 16:07:44  Musical Instruments  2017   \n",
       "2402          0.550000 2017-06-20 21:46:40  Musical Instruments  2017   \n",
       "2403          0.583333 2017-06-29 15:10:58  Musical Instruments  2017   \n",
       "2404          0.516667 2017-05-30 00:19:02  Musical Instruments  2017   \n",
       "2405          0.516667 2017-07-06 16:12:34  Musical Instruments  2017   \n",
       "2418          1.500000 2017-06-30 17:33:29  Musical Instruments  2017   \n",
       "\n",
       "         month  \n",
       "453        May  \n",
       "454      April  \n",
       "455       July  \n",
       "456       July  \n",
       "457       June  \n",
       "458       June  \n",
       "459        May  \n",
       "460       July  \n",
       "461       July  \n",
       "462       July  \n",
       "463       July  \n",
       "464       July  \n",
       "524      April  \n",
       "777        May  \n",
       "778   December  \n",
       "779       June  \n",
       "781   December  \n",
       "782        May  \n",
       "783      April  \n",
       "784       July  \n",
       "785       July  \n",
       "786       June  \n",
       "884   February  \n",
       "885   December  \n",
       "886   February  \n",
       "887        May  \n",
       "888   February  \n",
       "889       June  \n",
       "890    January  \n",
       "891        May  \n",
       "...        ...  \n",
       "1102      June  \n",
       "1234     April  \n",
       "1235       May  \n",
       "1236      June  \n",
       "1237     March  \n",
       "1238     March  \n",
       "1239     April  \n",
       "1240      June  \n",
       "1241     March  \n",
       "1471     April  \n",
       "1472     April  \n",
       "1569   January  \n",
       "1618  December  \n",
       "1619       May  \n",
       "1620  December  \n",
       "1621   October  \n",
       "1622      June  \n",
       "1624      July  \n",
       "1625     March  \n",
       "1977     April  \n",
       "2397   October  \n",
       "2398     March  \n",
       "2399       May  \n",
       "2400     March  \n",
       "2401      July  \n",
       "2402      June  \n",
       "2403      June  \n",
       "2404       May  \n",
       "2405      July  \n",
       "2418      June  \n",
       "\n",
       "[65 rows x 14 columns]"
      ]
     },
     "execution_count": 94,
     "metadata": {},
     "output_type": "execute_result"
    }
   ],
   "source": [
    "df_clean[df_clean.num_subscribers == df_clean.num_subscribers.min()]"
   ]
  },
  {
   "cell_type": "markdown",
   "metadata": {},
   "source": [
    "#### Compare Price and Number of Subscribers"
   ]
  },
  {
   "cell_type": "code",
   "execution_count": 95,
   "metadata": {
    "colab": {
     "base_uri": "https://localhost:8080/",
     "height": 610
    },
    "colab_type": "code",
    "id": "-_iL6Qtj0Jiq",
    "outputId": "48c0727d-29e4-47b5-cbe6-e55c6c4ae4cd"
   },
   "outputs": [
    {
     "data": {
      "image/png": "[encoded data removed]",
      "text/plain": [
       "<Figure size 720x720 with 1 Axes>"
      ]
     },
     "metadata": {
      "needs_background": "light"
     },
     "output_type": "display_data"
    }
   ],
   "source": [
    "plt.figure(figsize=(10,10))\n",
    "sns.scatterplot(data=df_clean, x='price', y='num_subscribers');\n",
    "plt.ylim(0,200000);\n",
    "\n",
    "# No clear correlation between the price and the number of subscribers.\n",
    "# It appears the Price doesn't determine the number of subscribers\n",
    "# However the Free ie. Price = 0, courses had most subscribers."
   ]
  },
  {
   "cell_type": "code",
   "execution_count": 96,
   "metadata": {
    "colab": {},
    "colab_type": "code",
    "id": "66W-07WAhieD"
   },
   "outputs": [],
   "source": [
    "# Get the Individual Subjects and Plot the Monthly Mean for Price and Number of Subscribers\n",
    "\n",
    "def monthly_mean(col_value):\n",
    "  mean_df = df_clean[df_clean.subject == col_value]\n",
    "  mean_df = mean_df.set_index('published_timestamp')\n",
    "  return mean_df[['price', 'num_subscribers']].resample('M').mean()"
   ]
  },
  {
   "cell_type": "code",
   "execution_count": 97,
   "metadata": {
    "colab": {},
    "colab_type": "code",
    "id": "BPgKguotbezT"
   },
   "outputs": [],
   "source": [
    "# Monthy Mean for Business Finance\n",
    "bus_fin_mthly_mean = monthly_mean('Business Finance')\n",
    "\n",
    "# Monthly Mean for Graphic Design\n",
    "graph_des_mthly_mean = monthly_mean('Graphic Design')\n",
    "\n",
    "# Monthly Mean for Musical Instruments\n",
    "mus_inst_mthly_mean = monthly_mean('Musical Instruments')\n",
    "\n",
    "# Monthly Mean for Web Development\n",
    "web_dev_mthly_mean = monthly_mean('Web Development')"
   ]
  },
  {
   "cell_type": "code",
   "execution_count": 98,
   "metadata": {
    "colab": {
     "base_uri": "https://localhost:8080/",
     "height": 592
    },
    "colab_type": "code",
    "id": "vNpx3SjImy4u",
    "outputId": "96859275-e6cd-428f-e8ce-229035220dee"
   },
   "outputs": [
    {
     "data": {
      "image/png": "[encoded data removed]",
      "text/plain": [
       "<Figure size 1800x720 with 1 Axes>"
      ]
     },
     "metadata": {
      "needs_background": "light"
     },
     "output_type": "display_data"
    }
   ],
   "source": [
    "# Plot Monthly Means for Price Across the Years\n",
    "x_axis_vals = [2011, 2012, 2013, 2014, 2015, 2017, 2017]\n",
    "xi = list(range(len(x_axis_vals)))\n",
    "\n",
    "fig, ax = plt.subplots(figsize=(25,10))\n",
    "ax.plot(bus_fin_mthly_mean['price'],\n",
    "marker='.', linestyle='-', linewidth=1, label='Business Finance')\n",
    "ax.plot(graph_des_mthly_mean['price'],\n",
    "marker='s',linestyle='-.', linewidth=1, label='Graphic Design')\n",
    "ax.plot(mus_inst_mthly_mean['price'],\n",
    "marker='+', linestyle='--', linewidth=1, label='Musical Instruments')\n",
    "ax.plot(web_dev_mthly_mean['price'],\n",
    "marker='v',linestyle=':', linewidth=1, label='Web Development')\n",
    "ax.set_ylabel('Monthly Mean Price ($)')\n",
    "ax.legend();\n",
    "# plt.xticks(xi, x_axis_vals);"
   ]
  },
  {
   "cell_type": "code",
   "execution_count": 99,
   "metadata": {
    "colab": {
     "base_uri": "https://localhost:8080/",
     "height": 592
    },
    "colab_type": "code",
    "id": "mSUw6uBpebuC",
    "outputId": "c029cd31-8b87-4f12-b485-d0ba2d923dd8"
   },
   "outputs": [
    {
     "data": {
      "image/png": "[encoded data removed]",
      "text/plain": [
       "<Figure size 1800x720 with 1 Axes>"
      ]
     },
     "metadata": {
      "needs_background": "light"
     },
     "output_type": "display_data"
    }
   ],
   "source": [
    "# Plot Monthly Means for Number of Subscribers Across the Years\n",
    "x_axis_vals = [2011, 2012, 2013, 2014, 2015, 2017, 2017]\n",
    "xi = list(range(len(x_axis_vals)))\n",
    "\n",
    "fig, ax = plt.subplots(figsize=(25,10))\n",
    "ax.plot(bus_fin_mthly_mean['num_subscribers'],\n",
    "marker='.', linestyle='-', linewidth=1, label='Business Finance')\n",
    "ax.plot(graph_des_mthly_mean['num_subscribers'],\n",
    "marker='s',linestyle='-.', linewidth=1, label='Graphic Design')\n",
    "ax.plot(mus_inst_mthly_mean['num_subscribers'],\n",
    "marker='+', linestyle='--', linewidth=1, label='Musical Instruments')\n",
    "ax.plot(web_dev_mthly_mean['num_subscribers'],\n",
    "marker='v',linestyle=':', linewidth=1, label='Web Development')\n",
    "ax.set_ylabel('Monthly Mean Subscribers')\n",
    "ax.legend();\n",
    "# plt.xticks(xi, x_axis_vals);"
   ]
  },
  {
   "cell_type": "code",
   "execution_count": null,
   "metadata": {
    "colab": {},
    "colab_type": "code",
    "id": "YhG2KCTfqoGg"
   },
   "outputs": [],
   "source": []
  }
 ],
 "metadata": {
  "colab": {
   "collapsed_sections": [],
   "name": "Copy of Udemy Courses Analysis.ipynb",
   "provenance": [],
   "toc_visible": true
  },
  "kernelspec": {
   "display_name": "Python 3",
   "language": "python",
   "name": "python3"
  },
  "language_info": {
   "codemirror_mode": {
    "name": "ipython",
    "version": 3
   },
   "file_extension": ".py",
   "mimetype": "text/x-python",
   "name": "python",
   "nbconvert_exporter": "python",
   "pygments_lexer": "ipython3",
   "version": "3.7.1"
  }
 },
 "nbformat": 4,
 "nbformat_minor": 1
}
